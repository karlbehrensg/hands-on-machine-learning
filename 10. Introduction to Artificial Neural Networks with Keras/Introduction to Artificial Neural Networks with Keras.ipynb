{
 "cells": [
  {
   "cell_type": "markdown",
   "metadata": {},
   "source": [
    "# Building an Image Classifier Using the Sequential API"
   ]
  },
  {
   "cell_type": "markdown",
   "metadata": {},
   "source": [
    "### Using Keras to load the dataset"
   ]
  },
  {
   "cell_type": "code",
   "execution_count": 1,
   "metadata": {},
   "outputs": [],
   "source": [
    "import tensorflow as tf\n",
    "from tensorflow import keras"
   ]
  },
  {
   "cell_type": "code",
   "execution_count": 2,
   "metadata": {},
   "outputs": [
    {
     "data": {
      "text/plain": [
       "'2.2.0'"
      ]
     },
     "execution_count": 2,
     "metadata": {},
     "output_type": "execute_result"
    }
   ],
   "source": [
    "tf.__version__"
   ]
  },
  {
   "cell_type": "code",
   "execution_count": 3,
   "metadata": {},
   "outputs": [
    {
     "data": {
      "text/plain": [
       "'2.3.0-tf'"
      ]
     },
     "execution_count": 3,
     "metadata": {},
     "output_type": "execute_result"
    }
   ],
   "source": [
    "keras.__version__"
   ]
  },
  {
   "cell_type": "code",
   "execution_count": 4,
   "metadata": {},
   "outputs": [],
   "source": [
    "fashion_mnist = keras.datasets.fashion_mnist\n",
    "(X_train_full, y_train_full), (X_test, y_test) = fashion_mnist.load_data()"
   ]
  },
  {
   "cell_type": "code",
   "execution_count": 5,
   "metadata": {},
   "outputs": [
    {
     "data": {
      "text/plain": [
       "(60000, 28, 28)"
      ]
     },
     "execution_count": 5,
     "metadata": {},
     "output_type": "execute_result"
    }
   ],
   "source": [
    "X_train_full.shape"
   ]
  },
  {
   "cell_type": "code",
   "execution_count": 6,
   "metadata": {},
   "outputs": [
    {
     "data": {
      "text/plain": [
       "dtype('uint8')"
      ]
     },
     "execution_count": 6,
     "metadata": {},
     "output_type": "execute_result"
    }
   ],
   "source": [
    "X_train_full.dtype"
   ]
  },
  {
   "cell_type": "markdown",
   "metadata": {},
   "source": [
    "### Split into a training set and test set, and scale the input features"
   ]
  },
  {
   "cell_type": "code",
   "execution_count": 7,
   "metadata": {},
   "outputs": [],
   "source": [
    "X_valid, X_train = X_train_full[:5000] / 255.0, X_train_full[5000:] / 255.0\n",
    "y_valid, y_train = y_train_full[:5000], y_train_full[5000:]\n",
    "X_test = X_test / 255.0"
   ]
  },
  {
   "cell_type": "markdown",
   "metadata": {},
   "source": [
    "### Labels"
   ]
  },
  {
   "cell_type": "code",
   "execution_count": 8,
   "metadata": {},
   "outputs": [],
   "source": [
    "class_names = ['T-shirt/top', 'Trouser', 'Pullover', 'Dress', 'Coat', \n",
    "               'Sandal', 'Shirt', 'Sneaker', 'Bag', 'Ankle boot']"
   ]
  },
  {
   "cell_type": "code",
   "execution_count": 9,
   "metadata": {},
   "outputs": [
    {
     "data": {
      "text/plain": [
       "'Coat'"
      ]
     },
     "execution_count": 9,
     "metadata": {},
     "output_type": "execute_result"
    }
   ],
   "source": [
    "class_names[y_train[0]]"
   ]
  },
  {
   "cell_type": "markdown",
   "metadata": {},
   "source": [
    "### Creating the model using the Sequential API"
   ]
  },
  {
   "cell_type": "code",
   "execution_count": 10,
   "metadata": {},
   "outputs": [],
   "source": [
    "model = keras.models.Sequential([\n",
    "    keras.layers.Flatten(input_shape=[28, 28]),\n",
    "    keras.layers.Dense(300, activation='relu'),\n",
    "    keras.layers.Dense(100, activation='relu'),\n",
    "    keras.layers.Dense(10, activation='softmax'),\n",
    "])"
   ]
  },
  {
   "cell_type": "markdown",
   "metadata": {},
   "source": [
    "### Summary of the model"
   ]
  },
  {
   "cell_type": "code",
   "execution_count": 11,
   "metadata": {},
   "outputs": [
    {
     "name": "stdout",
     "output_type": "stream",
     "text": [
      "Model: \"sequential\"\n",
      "_________________________________________________________________\n",
      "Layer (type)                 Output Shape              Param #   \n",
      "=================================================================\n",
      "flatten (Flatten)            (None, 784)               0         \n",
      "_________________________________________________________________\n",
      "dense (Dense)                (None, 300)               235500    \n",
      "_________________________________________________________________\n",
      "dense_1 (Dense)              (None, 100)               30100     \n",
      "_________________________________________________________________\n",
      "dense_2 (Dense)              (None, 10)                1010      \n",
      "=================================================================\n",
      "Total params: 266,610\n",
      "Trainable params: 266,610\n",
      "Non-trainable params: 0\n",
      "_________________________________________________________________\n"
     ]
    }
   ],
   "source": [
    "model.summary()"
   ]
  },
  {
   "cell_type": "markdown",
   "metadata": {},
   "source": [
    "### Layers information"
   ]
  },
  {
   "cell_type": "code",
   "execution_count": 12,
   "metadata": {},
   "outputs": [
    {
     "data": {
      "text/plain": [
       "[<tensorflow.python.keras.layers.core.Flatten at 0x7f8995bb2090>,\n",
       " <tensorflow.python.keras.layers.core.Dense at 0x7f8995bb6310>,\n",
       " <tensorflow.python.keras.layers.core.Dense at 0x7f899e0a7d10>,\n",
       " <tensorflow.python.keras.layers.core.Dense at 0x7f899e0befd0>]"
      ]
     },
     "execution_count": 12,
     "metadata": {},
     "output_type": "execute_result"
    }
   ],
   "source": [
    "model.layers"
   ]
  },
  {
   "cell_type": "code",
   "execution_count": 13,
   "metadata": {},
   "outputs": [],
   "source": [
    "hidden1 = model.layers[1]"
   ]
  },
  {
   "cell_type": "code",
   "execution_count": 14,
   "metadata": {},
   "outputs": [
    {
     "data": {
      "text/plain": [
       "'dense'"
      ]
     },
     "execution_count": 14,
     "metadata": {},
     "output_type": "execute_result"
    }
   ],
   "source": [
    "hidden1.name"
   ]
  },
  {
   "cell_type": "code",
   "execution_count": 15,
   "metadata": {},
   "outputs": [
    {
     "data": {
      "text/plain": [
       "True"
      ]
     },
     "execution_count": 15,
     "metadata": {},
     "output_type": "execute_result"
    }
   ],
   "source": [
    "model.get_layer('dense') is hidden1"
   ]
  },
  {
   "cell_type": "code",
   "execution_count": 16,
   "metadata": {},
   "outputs": [
    {
     "data": {
      "text/plain": [
       "array([[-0.01629128, -0.06378061,  0.05373098, ...,  0.06370498,\n",
       "        -0.06928469, -0.06260613],\n",
       "       [ 0.01654326,  0.02907914,  0.01739112, ...,  0.01763875,\n",
       "        -0.01907836,  0.07342431],\n",
       "       [-0.03889589,  0.02132241, -0.07285558, ...,  0.04323953,\n",
       "         0.00474919, -0.02606719],\n",
       "       ...,\n",
       "       [-0.00450433, -0.02070056, -0.07084598, ..., -0.03759247,\n",
       "         0.05796532,  0.00067139],\n",
       "       [ 0.07151376,  0.01577291,  0.05396974, ...,  0.07235214,\n",
       "        -0.03916637, -0.03845256],\n",
       "       [-0.01686285,  0.02322412, -0.05589483, ...,  0.06456889,\n",
       "         0.06641409,  0.0236372 ]], dtype=float32)"
      ]
     },
     "execution_count": 16,
     "metadata": {},
     "output_type": "execute_result"
    }
   ],
   "source": [
    "weights, biases = hidden1.get_weights()\n",
    "weights"
   ]
  },
  {
   "cell_type": "code",
   "execution_count": 17,
   "metadata": {},
   "outputs": [
    {
     "data": {
      "text/plain": [
       "(784, 300)"
      ]
     },
     "execution_count": 17,
     "metadata": {},
     "output_type": "execute_result"
    }
   ],
   "source": [
    "weights.shape"
   ]
  },
  {
   "cell_type": "code",
   "execution_count": 18,
   "metadata": {},
   "outputs": [
    {
     "data": {
      "text/plain": [
       "array([0., 0., 0., 0., 0., 0., 0., 0., 0., 0., 0., 0., 0., 0., 0., 0., 0.,\n",
       "       0., 0., 0., 0., 0., 0., 0., 0., 0., 0., 0., 0., 0., 0., 0., 0., 0.,\n",
       "       0., 0., 0., 0., 0., 0., 0., 0., 0., 0., 0., 0., 0., 0., 0., 0., 0.,\n",
       "       0., 0., 0., 0., 0., 0., 0., 0., 0., 0., 0., 0., 0., 0., 0., 0., 0.,\n",
       "       0., 0., 0., 0., 0., 0., 0., 0., 0., 0., 0., 0., 0., 0., 0., 0., 0.,\n",
       "       0., 0., 0., 0., 0., 0., 0., 0., 0., 0., 0., 0., 0., 0., 0., 0., 0.,\n",
       "       0., 0., 0., 0., 0., 0., 0., 0., 0., 0., 0., 0., 0., 0., 0., 0., 0.,\n",
       "       0., 0., 0., 0., 0., 0., 0., 0., 0., 0., 0., 0., 0., 0., 0., 0., 0.,\n",
       "       0., 0., 0., 0., 0., 0., 0., 0., 0., 0., 0., 0., 0., 0., 0., 0., 0.,\n",
       "       0., 0., 0., 0., 0., 0., 0., 0., 0., 0., 0., 0., 0., 0., 0., 0., 0.,\n",
       "       0., 0., 0., 0., 0., 0., 0., 0., 0., 0., 0., 0., 0., 0., 0., 0., 0.,\n",
       "       0., 0., 0., 0., 0., 0., 0., 0., 0., 0., 0., 0., 0., 0., 0., 0., 0.,\n",
       "       0., 0., 0., 0., 0., 0., 0., 0., 0., 0., 0., 0., 0., 0., 0., 0., 0.,\n",
       "       0., 0., 0., 0., 0., 0., 0., 0., 0., 0., 0., 0., 0., 0., 0., 0., 0.,\n",
       "       0., 0., 0., 0., 0., 0., 0., 0., 0., 0., 0., 0., 0., 0., 0., 0., 0.,\n",
       "       0., 0., 0., 0., 0., 0., 0., 0., 0., 0., 0., 0., 0., 0., 0., 0., 0.,\n",
       "       0., 0., 0., 0., 0., 0., 0., 0., 0., 0., 0., 0., 0., 0., 0., 0., 0.,\n",
       "       0., 0., 0., 0., 0., 0., 0., 0., 0., 0., 0.], dtype=float32)"
      ]
     },
     "execution_count": 18,
     "metadata": {},
     "output_type": "execute_result"
    }
   ],
   "source": [
    "biases"
   ]
  },
  {
   "cell_type": "code",
   "execution_count": 19,
   "metadata": {},
   "outputs": [
    {
     "data": {
      "text/plain": [
       "(300,)"
      ]
     },
     "execution_count": 19,
     "metadata": {},
     "output_type": "execute_result"
    }
   ],
   "source": [
    "biases.shape"
   ]
  },
  {
   "cell_type": "markdown",
   "metadata": {},
   "source": [
    "### Compiling the model"
   ]
  },
  {
   "cell_type": "code",
   "execution_count": 20,
   "metadata": {},
   "outputs": [],
   "source": [
    "model.compile(loss='sparse_categorical_crossentropy', optimizer='sgd', metrics=['accuracy'])"
   ]
  },
  {
   "cell_type": "markdown",
   "metadata": {},
   "source": [
    "### Training and evaluating the model"
   ]
  },
  {
   "cell_type": "code",
   "execution_count": 21,
   "metadata": {},
   "outputs": [
    {
     "name": "stdout",
     "output_type": "stream",
     "text": [
      "Epoch 1/30\n",
      "1719/1719 [==============================] - 3s 2ms/step - loss: 0.7089 - accuracy: 0.7665 - val_loss: 0.5222 - val_accuracy: 0.8222\n",
      "Epoch 2/30\n",
      "1719/1719 [==============================] - 3s 2ms/step - loss: 0.4850 - accuracy: 0.8303 - val_loss: 0.4411 - val_accuracy: 0.8496\n",
      "Epoch 3/30\n",
      "1719/1719 [==============================] - 3s 2ms/step - loss: 0.4413 - accuracy: 0.8447 - val_loss: 0.4108 - val_accuracy: 0.8586\n",
      "Epoch 4/30\n",
      "1719/1719 [==============================] - 3s 2ms/step - loss: 0.4146 - accuracy: 0.8559 - val_loss: 0.3987 - val_accuracy: 0.8640\n",
      "Epoch 5/30\n",
      "1719/1719 [==============================] - 3s 2ms/step - loss: 0.3947 - accuracy: 0.8632 - val_loss: 0.4158 - val_accuracy: 0.8572\n",
      "Epoch 6/30\n",
      "1719/1719 [==============================] - 3s 2ms/step - loss: 0.3785 - accuracy: 0.8663 - val_loss: 0.3737 - val_accuracy: 0.8724\n",
      "Epoch 7/30\n",
      "1719/1719 [==============================] - 3s 2ms/step - loss: 0.3654 - accuracy: 0.8714 - val_loss: 0.3966 - val_accuracy: 0.8614\n",
      "Epoch 8/30\n",
      "1719/1719 [==============================] - 3s 1ms/step - loss: 0.3532 - accuracy: 0.8749 - val_loss: 0.3561 - val_accuracy: 0.8744\n",
      "Epoch 9/30\n",
      "1719/1719 [==============================] - 3s 2ms/step - loss: 0.3429 - accuracy: 0.8783 - val_loss: 0.3511 - val_accuracy: 0.8724\n",
      "Epoch 10/30\n",
      "1719/1719 [==============================] - 3s 2ms/step - loss: 0.3340 - accuracy: 0.8801 - val_loss: 0.3673 - val_accuracy: 0.8688\n",
      "Epoch 11/30\n",
      "1719/1719 [==============================] - 3s 2ms/step - loss: 0.3253 - accuracy: 0.8838 - val_loss: 0.3508 - val_accuracy: 0.8784\n",
      "Epoch 12/30\n",
      "1719/1719 [==============================] - 3s 2ms/step - loss: 0.3174 - accuracy: 0.8866 - val_loss: 0.3418 - val_accuracy: 0.8768\n",
      "Epoch 13/30\n",
      "1719/1719 [==============================] - 3s 2ms/step - loss: 0.3092 - accuracy: 0.8899 - val_loss: 0.3294 - val_accuracy: 0.8818\n",
      "Epoch 14/30\n",
      "1719/1719 [==============================] - 3s 2ms/step - loss: 0.3033 - accuracy: 0.8902 - val_loss: 0.3517 - val_accuracy: 0.8732\n",
      "Epoch 15/30\n",
      "1719/1719 [==============================] - 3s 2ms/step - loss: 0.2969 - accuracy: 0.8930 - val_loss: 0.3217 - val_accuracy: 0.8892\n",
      "Epoch 16/30\n",
      "1719/1719 [==============================] - 3s 2ms/step - loss: 0.2910 - accuracy: 0.8947 - val_loss: 0.3170 - val_accuracy: 0.8862\n",
      "Epoch 17/30\n",
      "1719/1719 [==============================] - 3s 1ms/step - loss: 0.2847 - accuracy: 0.8979 - val_loss: 0.3415 - val_accuracy: 0.8838\n",
      "Epoch 18/30\n",
      "1719/1719 [==============================] - 3s 2ms/step - loss: 0.2788 - accuracy: 0.8996 - val_loss: 0.3384 - val_accuracy: 0.8842\n",
      "Epoch 19/30\n",
      "1719/1719 [==============================] - 3s 2ms/step - loss: 0.2733 - accuracy: 0.9010 - val_loss: 0.3184 - val_accuracy: 0.8866\n",
      "Epoch 20/30\n",
      "1719/1719 [==============================] - 3s 2ms/step - loss: 0.2680 - accuracy: 0.9038 - val_loss: 0.3102 - val_accuracy: 0.8914\n",
      "Epoch 21/30\n",
      "1719/1719 [==============================] - 3s 2ms/step - loss: 0.2636 - accuracy: 0.9044 - val_loss: 0.3059 - val_accuracy: 0.8928\n",
      "Epoch 22/30\n",
      "1719/1719 [==============================] - 3s 2ms/step - loss: 0.2585 - accuracy: 0.9064 - val_loss: 0.3196 - val_accuracy: 0.8870\n",
      "Epoch 23/30\n",
      "1719/1719 [==============================] - 3s 2ms/step - loss: 0.2540 - accuracy: 0.9085 - val_loss: 0.3015 - val_accuracy: 0.8932\n",
      "Epoch 24/30\n",
      "1719/1719 [==============================] - 3s 2ms/step - loss: 0.2494 - accuracy: 0.9096 - val_loss: 0.3136 - val_accuracy: 0.8904\n",
      "Epoch 25/30\n",
      "1719/1719 [==============================] - 3s 2ms/step - loss: 0.2456 - accuracy: 0.9118 - val_loss: 0.3039 - val_accuracy: 0.8896\n",
      "Epoch 26/30\n",
      "1719/1719 [==============================] - 3s 2ms/step - loss: 0.2418 - accuracy: 0.9133 - val_loss: 0.2914 - val_accuracy: 0.8950\n",
      "Epoch 27/30\n",
      "1719/1719 [==============================] - 3s 2ms/step - loss: 0.2371 - accuracy: 0.9147 - val_loss: 0.2923 - val_accuracy: 0.8952\n",
      "Epoch 28/30\n",
      "1719/1719 [==============================] - 3s 2ms/step - loss: 0.2332 - accuracy: 0.9162 - val_loss: 0.2984 - val_accuracy: 0.8950\n",
      "Epoch 29/30\n",
      "1719/1719 [==============================] - 3s 2ms/step - loss: 0.2301 - accuracy: 0.9171 - val_loss: 0.2975 - val_accuracy: 0.8944\n",
      "Epoch 30/30\n",
      "1719/1719 [==============================] - 3s 1ms/step - loss: 0.2266 - accuracy: 0.9176 - val_loss: 0.2941 - val_accuracy: 0.8950\n"
     ]
    }
   ],
   "source": [
    "history = model.fit(X_train, y_train, epochs=30, validation_data=(X_valid, y_valid))"
   ]
  },
  {
   "cell_type": "markdown",
   "metadata": {},
   "source": [
    "### History training"
   ]
  },
  {
   "cell_type": "code",
   "execution_count": 22,
   "metadata": {},
   "outputs": [
    {
     "data": {
      "image/png": "[encoded data removed]",
      "text/plain": [
       "<Figure size 1296x576 with 1 Axes>"
      ]
     },
     "metadata": {
      "needs_background": "light"
     },
     "output_type": "display_data"
    }
   ],
   "source": [
    "import pandas as pd\n",
    "import matplotlib.pyplot as plt\n",
    "\n",
    "pd.DataFrame(history.history).plot(figsize=(18, 8))\n",
    "plt.grid(True)\n",
    "plt.gca().set_ylim(0, 1)\n",
    "plt.gca().set_xlim(0, 30)\n",
    "plt.show()"
   ]
  },
  {
   "cell_type": "markdown",
   "metadata": {},
   "source": [
    "### Evaluate model"
   ]
  },
  {
   "cell_type": "code",
   "execution_count": 23,
   "metadata": {},
   "outputs": [
    {
     "name": "stdout",
     "output_type": "stream",
     "text": [
      "313/313 [==============================] - 0s 721us/step - loss: 0.3259 - accuracy: 0.8844\n"
     ]
    },
    {
     "data": {
      "text/plain": [
       "[0.32592058181762695, 0.8844000101089478]"
      ]
     },
     "execution_count": 23,
     "metadata": {},
     "output_type": "execute_result"
    }
   ],
   "source": [
    "model.evaluate(X_test, y_test)"
   ]
  },
  {
   "cell_type": "markdown",
   "metadata": {},
   "source": [
    "### Using the model to make predictions"
   ]
  },
  {
   "cell_type": "code",
   "execution_count": 24,
   "metadata": {},
   "outputs": [
    {
     "data": {
      "text/plain": [
       "array([[0.  , 0.  , 0.  , 0.  , 0.  , 0.  , 0.  , 0.01, 0.  , 0.99],\n",
       "       [0.  , 0.  , 1.  , 0.  , 0.  , 0.  , 0.  , 0.  , 0.  , 0.  ],\n",
       "       [0.  , 1.  , 0.  , 0.  , 0.  , 0.  , 0.  , 0.  , 0.  , 0.  ]],\n",
       "      dtype=float32)"
      ]
     },
     "execution_count": 24,
     "metadata": {},
     "output_type": "execute_result"
    }
   ],
   "source": [
    "X_new = X_test[:3]\n",
    "y_proba = model.predict(X_new)\n",
    "y_proba.round(2)"
   ]
  },
  {
   "cell_type": "code",
   "execution_count": 25,
   "metadata": {},
   "outputs": [
    {
     "data": {
      "text/plain": [
       "array([9, 2, 1])"
      ]
     },
     "execution_count": 25,
     "metadata": {},
     "output_type": "execute_result"
    }
   ],
   "source": [
    "import numpy as np\n",
    "\n",
    "y_pred = np.argmax(model.predict(X_new), axis=-1)\n",
    "y_pred"
   ]
  },
  {
   "cell_type": "code",
   "execution_count": 26,
   "metadata": {},
   "outputs": [
    {
     "data": {
      "text/plain": [
       "array(['Ankle boot', 'Pullover', 'Trouser'], dtype='<U11')"
      ]
     },
     "execution_count": 26,
     "metadata": {},
     "output_type": "execute_result"
    }
   ],
   "source": [
    "np.array(class_names)[y_pred]"
   ]
  },
  {
   "cell_type": "markdown",
   "metadata": {},
   "source": [
    "# Building a Regression MLP Using the Sequential API"
   ]
  },
  {
   "cell_type": "markdown",
   "metadata": {},
   "source": [
    "### Preparing Data"
   ]
  },
  {
   "cell_type": "code",
   "execution_count": 27,
   "metadata": {},
   "outputs": [],
   "source": [
    "from sklearn.datasets import fetch_california_housing\n",
    "from sklearn.model_selection import train_test_split\n",
    "from sklearn.preprocessing import StandardScaler\n",
    "\n",
    "housing = fetch_california_housing()\n",
    "\n",
    "X_train_full, X_test, y_train_full, y_test = train_test_split(housing.data, housing.target)\n",
    "X_train, X_valid, y_train, y_valid = train_test_split(X_train_full, y_train_full)\n",
    "\n",
    "scaler = StandardScaler()\n",
    "X_train = scaler.fit_transform(X_train)\n",
    "X_valid = scaler.transform(X_valid)\n",
    "X_test = scaler.transform(X_test)"
   ]
  },
  {
   "cell_type": "markdown",
   "metadata": {},
   "source": [
    "### Buildding Sequential API"
   ]
  },
  {
   "cell_type": "code",
   "execution_count": 28,
   "metadata": {},
   "outputs": [
    {
     "name": "stdout",
     "output_type": "stream",
     "text": [
      "Epoch 1/20\n",
      "363/363 [==============================] - 0s 787us/step - loss: 1.2954 - val_loss: 0.4918\n",
      "Epoch 2/20\n",
      "363/363 [==============================] - 0s 697us/step - loss: 0.4595 - val_loss: 0.4474\n",
      "Epoch 3/20\n",
      "363/363 [==============================] - 0s 698us/step - loss: 0.4689 - val_loss: 0.4621\n",
      "Epoch 4/20\n",
      "363/363 [==============================] - 0s 709us/step - loss: 0.4287 - val_loss: 0.4175\n",
      "Epoch 5/20\n",
      "363/363 [==============================] - 0s 703us/step - loss: 0.4358 - val_loss: 0.4500\n",
      "Epoch 6/20\n",
      "363/363 [==============================] - 0s 685us/step - loss: 0.4114 - val_loss: 0.4088\n",
      "Epoch 7/20\n",
      "363/363 [==============================] - 0s 699us/step - loss: 0.3919 - val_loss: 0.4002\n",
      "Epoch 8/20\n",
      "363/363 [==============================] - 0s 687us/step - loss: 0.3909 - val_loss: 0.4055\n",
      "Epoch 9/20\n",
      "363/363 [==============================] - 0s 688us/step - loss: 0.3851 - val_loss: 0.3940\n",
      "Epoch 10/20\n",
      "363/363 [==============================] - 0s 684us/step - loss: 0.3830 - val_loss: 0.3921\n",
      "Epoch 11/20\n",
      "363/363 [==============================] - 0s 687us/step - loss: 0.3871 - val_loss: 0.3920\n",
      "Epoch 12/20\n",
      "363/363 [==============================] - 0s 709us/step - loss: 0.3780 - val_loss: 0.3884\n",
      "Epoch 13/20\n",
      "363/363 [==============================] - 0s 725us/step - loss: 0.3728 - val_loss: 0.3804\n",
      "Epoch 14/20\n",
      "363/363 [==============================] - 0s 751us/step - loss: 0.3871 - val_loss: 0.3837\n",
      "Epoch 15/20\n",
      "363/363 [==============================] - 0s 707us/step - loss: 0.3717 - val_loss: 0.3776\n",
      "Epoch 16/20\n",
      "363/363 [==============================] - 0s 706us/step - loss: 0.3918 - val_loss: 0.3990\n",
      "Epoch 17/20\n",
      "363/363 [==============================] - 0s 685us/step - loss: 0.3844 - val_loss: 0.3767\n",
      "Epoch 18/20\n",
      "363/363 [==============================] - 0s 684us/step - loss: 0.3713 - val_loss: 0.3776\n",
      "Epoch 19/20\n",
      "363/363 [==============================] - 0s 685us/step - loss: 0.3648 - val_loss: 0.3749\n",
      "Epoch 20/20\n",
      "363/363 [==============================] - 0s 676us/step - loss: 0.3622 - val_loss: 0.3711\n",
      "162/162 [==============================] - 0s 432us/step - loss: 0.3619\n"
     ]
    }
   ],
   "source": [
    "model = keras.models.Sequential([\n",
    "    keras.layers.Dense(30, activation='relu', input_shape=X_train.shape[1:]),\n",
    "    keras.layers.Dense(1)\n",
    "])\n",
    "\n",
    "model.compile(loss='mean_squared_error', optimizer='sgd')\n",
    "\n",
    "history = model.fit(X_train, y_train, epochs=20, validation_data=(X_valid, y_valid))\n",
    "mse_test = model.evaluate(X_test, y_test)\n",
    "\n",
    "X_new = X_test[:3]\n",
    "y_pred = model.predict(X_new)"
   ]
  },
  {
   "cell_type": "markdown",
   "metadata": {},
   "source": [
    "# Building Complex Models Using the Functional API"
   ]
  },
  {
   "cell_type": "markdown",
   "metadata": {},
   "source": [
    "### Wide Deep neural network"
   ]
  },
  {
   "cell_type": "code",
   "execution_count": 29,
   "metadata": {},
   "outputs": [
    {
     "name": "stdout",
     "output_type": "stream",
     "text": [
      "Epoch 1/20\n",
      "363/363 [==============================] - 0s 867us/step - loss: 0.7805 - val_loss: 0.9266\n",
      "Epoch 2/20\n",
      "363/363 [==============================] - 0s 734us/step - loss: 1.6525 - val_loss: 0.5069\n",
      "Epoch 3/20\n",
      "363/363 [==============================] - 0s 751us/step - loss: 54.9715 - val_loss: 0.6115\n",
      "Epoch 4/20\n",
      "363/363 [==============================] - 0s 751us/step - loss: nan - val_loss: nan\n",
      "Epoch 5/20\n",
      "363/363 [==============================] - 0s 738us/step - loss: nan - val_loss: nan\n",
      "Epoch 6/20\n",
      "363/363 [==============================] - 0s 738us/step - loss: nan - val_loss: nan\n",
      "Epoch 7/20\n",
      "363/363 [==============================] - 0s 755us/step - loss: nan - val_loss: nan\n",
      "Epoch 8/20\n",
      "363/363 [==============================] - 0s 734us/step - loss: nan - val_loss: nan\n",
      "Epoch 9/20\n",
      "363/363 [==============================] - 0s 736us/step - loss: nan - val_loss: nan\n",
      "Epoch 10/20\n",
      "363/363 [==============================] - 0s 764us/step - loss: nan - val_loss: nan\n",
      "Epoch 11/20\n",
      "363/363 [==============================] - 0s 772us/step - loss: nan - val_loss: nan\n",
      "Epoch 12/20\n",
      "363/363 [==============================] - 0s 773us/step - loss: nan - val_loss: nan\n",
      "Epoch 13/20\n",
      "363/363 [==============================] - 0s 755us/step - loss: nan - val_loss: nan\n",
      "Epoch 14/20\n",
      "363/363 [==============================] - 0s 743us/step - loss: nan - val_loss: nan\n",
      "Epoch 15/20\n",
      "363/363 [==============================] - 0s 755us/step - loss: nan - val_loss: nan\n",
      "Epoch 16/20\n",
      "363/363 [==============================] - 0s 742us/step - loss: nan - val_loss: nan\n",
      "Epoch 17/20\n",
      "363/363 [==============================] - 0s 741us/step - loss: nan - val_loss: nan\n",
      "Epoch 18/20\n",
      "363/363 [==============================] - 0s 745us/step - loss: nan - val_loss: nan\n",
      "Epoch 19/20\n",
      "363/363 [==============================] - 0s 742us/step - loss: nan - val_loss: nan\n",
      "Epoch 20/20\n",
      "363/363 [==============================] - 0s 749us/step - loss: nan - val_loss: nan\n",
      "162/162 [==============================] - 0s 467us/step - loss: nan\n"
     ]
    }
   ],
   "source": [
    "input_ = keras.layers.Input(shape=X_train.shape[1:])\n",
    "hidden1 = keras.layers.Dense(30, activation='relu')(input_)\n",
    "hidden2 = keras.layers.Dense(30, activation='relu')(hidden1)\n",
    "concat = keras.layers.Concatenate()([input_, hidden2])\n",
    "output = keras.layers.Dense(1)(concat)\n",
    "model = keras.Model(inputs=[input_], outputs=[output])\n",
    "\n",
    "model.compile(loss='mean_squared_error', optimizer='sgd')\n",
    "\n",
    "history = model.fit(X_train, y_train, epochs=20, validation_data=(X_valid, y_valid))\n",
    "mse_test = model.evaluate(X_test, y_test)\n",
    "\n",
    "X_new = X_test[:3]\n",
    "y_pred = model.predict(X_new)"
   ]
  },
  {
   "cell_type": "markdown",
   "metadata": {},
   "source": [
    "### Handling multiple inputs"
   ]
  },
  {
   "cell_type": "code",
   "execution_count": 30,
   "metadata": {
    "scrolled": false
   },
   "outputs": [
    {
     "name": "stdout",
     "output_type": "stream",
     "text": [
      "Epoch 1/20\n",
      "363/363 [==============================] - 0s 904us/step - loss: 2.0491 - val_loss: 0.9172\n",
      "Epoch 2/20\n",
      "363/363 [==============================] - 0s 788us/step - loss: 0.7908 - val_loss: 0.7241\n",
      "Epoch 3/20\n",
      "363/363 [==============================] - 0s 790us/step - loss: 0.6717 - val_loss: 0.6623\n",
      "Epoch 4/20\n",
      "363/363 [==============================] - 0s 788us/step - loss: 0.6245 - val_loss: 0.6272\n",
      "Epoch 5/20\n",
      "363/363 [==============================] - 0s 790us/step - loss: 0.5964 - val_loss: 0.6003\n",
      "Epoch 6/20\n",
      "363/363 [==============================] - 0s 800us/step - loss: 0.5751 - val_loss: 0.5807\n",
      "Epoch 7/20\n",
      "363/363 [==============================] - 0s 822us/step - loss: 0.5596 - val_loss: 0.5647\n",
      "Epoch 8/20\n",
      "363/363 [==============================] - 0s 791us/step - loss: 0.5468 - val_loss: 0.5526\n",
      "Epoch 9/20\n",
      "363/363 [==============================] - 0s 786us/step - loss: 0.5370 - val_loss: 0.5435\n",
      "Epoch 10/20\n",
      "363/363 [==============================] - 0s 789us/step - loss: 0.5291 - val_loss: 0.5348\n",
      "Epoch 11/20\n",
      "363/363 [==============================] - 0s 789us/step - loss: 0.5217 - val_loss: 0.5291\n",
      "Epoch 12/20\n",
      "363/363 [==============================] - 0s 813us/step - loss: 0.5162 - val_loss: 0.5231\n",
      "Epoch 13/20\n",
      "363/363 [==============================] - 0s 785us/step - loss: 0.5107 - val_loss: 0.5176\n",
      "Epoch 14/20\n",
      "363/363 [==============================] - 0s 787us/step - loss: 0.5061 - val_loss: 0.5131\n",
      "Epoch 15/20\n",
      "363/363 [==============================] - 0s 786us/step - loss: 0.5023 - val_loss: 0.5108\n",
      "Epoch 16/20\n",
      "363/363 [==============================] - 0s 797us/step - loss: 0.4989 - val_loss: 0.5058\n",
      "Epoch 17/20\n",
      "363/363 [==============================] - 0s 794us/step - loss: 0.4963 - val_loss: 0.5032\n",
      "Epoch 18/20\n",
      "363/363 [==============================] - 0s 785us/step - loss: 0.4931 - val_loss: 0.5041\n",
      "Epoch 19/20\n",
      "363/363 [==============================] - 0s 792us/step - loss: 0.4916 - val_loss: 0.4989\n",
      "Epoch 20/20\n",
      "363/363 [==============================] - 0s 779us/step - loss: 0.4885 - val_loss: 0.4953\n",
      "162/162 [==============================] - 0s 478us/step - loss: 0.5040\n"
     ]
    }
   ],
   "source": [
    "input_A = keras.layers.Input(shape=[5], name='wide_input')\n",
    "input_B = keras.layers.Input(shape=[6], name='deep_input')\n",
    "hidden1 = keras.layers.Dense(30, activation='relu')(input_B)\n",
    "hidden2 = keras.layers.Dense(30, activation='relu')(hidden1)\n",
    "concat = keras.layers.concatenate([input_A, hidden2])\n",
    "output = keras.layers.Dense(1, name='output')(concat)\n",
    "model = keras.Model(inputs=[input_A, input_B], outputs=[output])\n",
    "\n",
    "model.compile(loss=\"mse\", optimizer=keras.optimizers.SGD(lr=1e-3))\n",
    "\n",
    "X_train_A, X_train_B = X_train[:, :5], X_train[:, 2:]\n",
    "X_valid_A, X_valid_B = X_valid[:, :5], X_valid[:, 2:]\n",
    "X_test_A, X_test_B = X_test[:, :5], X_test[:, 2:]\n",
    "X_new_A, X_new_B = X_test_A[:3], X_test_B[:3]\n",
    "\n",
    "history = model.fit((X_train_A, X_train_B), y_train, epochs=20, validation_data=((X_valid_A, X_valid_B), y_valid))\n",
    "mse_test = model.evaluate((X_test_A, X_test_B), y_test)\n",
    "y_pred = model.predict((X_new_A, X_new_B))"
   ]
  },
  {
   "cell_type": "markdown",
   "metadata": {},
   "source": [
    "### Handling multiple outputs"
   ]
  },
  {
   "cell_type": "code",
   "execution_count": 31,
   "metadata": {},
   "outputs": [
    {
     "name": "stdout",
     "output_type": "stream",
     "text": [
      "Epoch 1/20\n",
      "363/363 [==============================] - 0s 1ms/step - loss: 1.1287 - output_loss: 1.0107 - aux_output_loss: 2.1907 - val_loss: 0.6869 - val_output_loss: 0.6133 - val_aux_output_loss: 1.3492\n",
      "Epoch 2/20\n",
      "363/363 [==============================] - 0s 903us/step - loss: 1.0399 - output_loss: 0.9788 - aux_output_loss: 1.5900 - val_loss: 0.5885 - val_output_loss: 0.5277 - val_aux_output_loss: 1.1352\n",
      "Epoch 3/20\n",
      "363/363 [==============================] - 0s 903us/step - loss: 0.5626 - output_loss: 0.5067 - aux_output_loss: 1.0658 - val_loss: 0.5403 - val_output_loss: 0.4907 - val_aux_output_loss: 0.9865\n",
      "Epoch 4/20\n",
      "363/363 [==============================] - 0s 892us/step - loss: 0.5176 - output_loss: 0.4711 - aux_output_loss: 0.9357 - val_loss: 0.5037 - val_output_loss: 0.4628 - val_aux_output_loss: 0.8713\n",
      "Epoch 5/20\n",
      "363/363 [==============================] - 0s 896us/step - loss: 0.4849 - output_loss: 0.4459 - aux_output_loss: 0.8359 - val_loss: 0.4785 - val_output_loss: 0.4451 - val_aux_output_loss: 0.7791\n",
      "Epoch 6/20\n",
      "363/363 [==============================] - 0s 890us/step - loss: 0.4774 - output_loss: 0.4458 - aux_output_loss: 0.7615 - val_loss: 0.4610 - val_output_loss: 0.4323 - val_aux_output_loss: 0.7199\n",
      "Epoch 7/20\n",
      "363/363 [==============================] - 0s 891us/step - loss: 0.4543 - output_loss: 0.4251 - aux_output_loss: 0.7170 - val_loss: 0.4565 - val_output_loss: 0.4310 - val_aux_output_loss: 0.6858\n",
      "Epoch 8/20\n",
      "363/363 [==============================] - 0s 901us/step - loss: 0.4469 - output_loss: 0.4195 - aux_output_loss: 0.6926 - val_loss: 0.4264 - val_output_loss: 0.4005 - val_aux_output_loss: 0.6592\n",
      "Epoch 9/20\n",
      "363/363 [==============================] - 0s 902us/step - loss: 0.4207 - output_loss: 0.3941 - aux_output_loss: 0.6596 - val_loss: 0.4131 - val_output_loss: 0.3878 - val_aux_output_loss: 0.6409\n",
      "Epoch 10/20\n",
      "363/363 [==============================] - 0s 898us/step - loss: 0.4124 - output_loss: 0.3868 - aux_output_loss: 0.6429 - val_loss: 0.4081 - val_output_loss: 0.3827 - val_aux_output_loss: 0.6372\n",
      "Epoch 11/20\n",
      "363/363 [==============================] - 0s 894us/step - loss: 0.4009 - output_loss: 0.3756 - aux_output_loss: 0.6285 - val_loss: 0.3959 - val_output_loss: 0.3715 - val_aux_output_loss: 0.6148\n",
      "Epoch 12/20\n",
      "363/363 [==============================] - 0s 890us/step - loss: 0.3929 - output_loss: 0.3684 - aux_output_loss: 0.6133 - val_loss: 0.3865 - val_output_loss: 0.3626 - val_aux_output_loss: 0.6021\n",
      "Epoch 13/20\n",
      "363/363 [==============================] - 0s 894us/step - loss: 0.3868 - output_loss: 0.3629 - aux_output_loss: 0.6019 - val_loss: 0.3761 - val_output_loss: 0.3530 - val_aux_output_loss: 0.5844\n",
      "Epoch 14/20\n",
      "363/363 [==============================] - 0s 900us/step - loss: 0.3817 - output_loss: 0.3586 - aux_output_loss: 0.5900 - val_loss: 0.3736 - val_output_loss: 0.3510 - val_aux_output_loss: 0.5769\n",
      "Epoch 15/20\n",
      "363/363 [==============================] - 0s 898us/step - loss: 0.3766 - output_loss: 0.3542 - aux_output_loss: 0.5789 - val_loss: 0.3775 - val_output_loss: 0.3558 - val_aux_output_loss: 0.5725\n",
      "Epoch 16/20\n",
      "363/363 [==============================] - 0s 905us/step - loss: 0.3726 - output_loss: 0.3508 - aux_output_loss: 0.5684 - val_loss: 0.3716 - val_output_loss: 0.3504 - val_aux_output_loss: 0.5622\n",
      "Epoch 17/20\n",
      "363/363 [==============================] - 0s 900us/step - loss: 0.3684 - output_loss: 0.3473 - aux_output_loss: 0.5583 - val_loss: 0.3604 - val_output_loss: 0.3395 - val_aux_output_loss: 0.5477\n",
      "Epoch 18/20\n",
      "363/363 [==============================] - 0s 898us/step - loss: 0.3650 - output_loss: 0.3444 - aux_output_loss: 0.5502 - val_loss: 0.3616 - val_output_loss: 0.3414 - val_aux_output_loss: 0.5426\n",
      "Epoch 19/20\n",
      "363/363 [==============================] - 0s 894us/step - loss: 0.3657 - output_loss: 0.3463 - aux_output_loss: 0.5403 - val_loss: 0.3611 - val_output_loss: 0.3414 - val_aux_output_loss: 0.5382\n",
      "Epoch 20/20\n",
      "363/363 [==============================] - 0s 901us/step - loss: 0.3646 - output_loss: 0.3455 - aux_output_loss: 0.5364 - val_loss: 0.3610 - val_output_loss: 0.3422 - val_aux_output_loss: 0.5297\n",
      "162/162 [==============================] - 0s 544us/step - loss: 0.3635 - output_loss: 0.3423 - aux_output_loss: 0.5536\n"
     ]
    }
   ],
   "source": [
    "input_A = keras.layers.Input(shape=[5], name='wide_input')\n",
    "input_B = keras.layers.Input(shape=[6], name='deep_input')\n",
    "hidden1 = keras.layers.Dense(30, activation='relu')(input_B)\n",
    "hidden2 = keras.layers.Dense(30, activation='relu')(hidden1)\n",
    "concat = keras.layers.concatenate([input_A, hidden2])\n",
    "output = keras.layers.Dense(1, name='output')(concat)\n",
    "aux_output = keras.layers.Dense(1, name='aux_output')(hidden2)\n",
    "model = keras.Model(inputs=[input_A, input_B], outputs=[output, aux_output])\n",
    "\n",
    "model.compile(loss=['mse', 'mse'], loss_weights=[0.9, 0.1], optimizer='sgd')\n",
    "\n",
    "X_train_A, X_train_B = X_train[:, :5], X_train[:, 2:]\n",
    "X_valid_A, X_valid_B = X_valid[:, :5], X_valid[:, 2:]\n",
    "X_test_A, X_test_B = X_test[:, :5], X_test[:, 2:]\n",
    "X_new_A, X_new_B = X_test_A[:3], X_test_B[:3]\n",
    "\n",
    "history = model.fit([X_train_A, X_train_B], [y_train, y_train], epochs=20, validation_data=([X_valid_A, X_valid_B], [y_valid, y_valid]))\n",
    "total_loss, main_loss, aux_loss = model.evaluate([X_test_A, X_test_B], [y_test, y_test])\n",
    "y_pred_main, y_pred_aux = model.predict([X_new_A, X_new_B])"
   ]
  },
  {
   "cell_type": "markdown",
   "metadata": {},
   "source": [
    "# Using the Subclassing API to Build Dynamic Models"
   ]
  },
  {
   "cell_type": "code",
   "execution_count": 32,
   "metadata": {},
   "outputs": [],
   "source": [
    "class WideAndDeepModel(keras.Model):\n",
    "    def __init__(self, units=30, activation=\"relu\", **kwargs):\n",
    "        super().__init__(**kwargs)\n",
    "        self.hidden1 = keras.layers.Dense(units, activation=activation)\n",
    "        self.hidden2 = keras.layers.Dense(units, activation=activation)\n",
    "        self.main_output = keras.layers.Dense(1)\n",
    "        self.aux_output = keras.layers.Dense(1)\n",
    "        \n",
    "    def call(self, inputs):\n",
    "        input_A, input_B = inputs\n",
    "        hidden1 = self.hidden1(input_B)\n",
    "        hidden2 = self.hidden2(hidden1)\n",
    "        concat = keras.layers.concatenate([input_A, hidden2])\n",
    "        main_output = self.main_output(concat)\n",
    "        aux_output = self.aux_output(hidden2)\n",
    "        return main_output, aux_output\n",
    "    \n",
    "model = WideAndDeepModel()"
   ]
  },
  {
   "cell_type": "code",
   "execution_count": 33,
   "metadata": {},
   "outputs": [
    {
     "name": "stdout",
     "output_type": "stream",
     "text": [
      "Epoch 1/10\n",
      "363/363 [==============================] - 0s 1ms/step - loss: 2.3977 - output_1_loss: 2.2885 - output_2_loss: 3.3813 - val_loss: 1.1305 - val_output_1_loss: 0.9995 - val_output_2_loss: 2.3096\n",
      "Epoch 2/10\n",
      "363/363 [==============================] - 0s 906us/step - loss: 1.0485 - output_1_loss: 0.9407 - output_2_loss: 2.0193 - val_loss: 0.8703 - val_output_1_loss: 0.7790 - val_output_2_loss: 1.6916\n",
      "Epoch 3/10\n",
      "363/363 [==============================] - 0s 901us/step - loss: 0.8021 - output_1_loss: 0.7171 - output_2_loss: 1.5670 - val_loss: 0.7636 - val_output_1_loss: 0.6910 - val_output_2_loss: 1.4172\n",
      "Epoch 4/10\n",
      "363/363 [==============================] - 0s 906us/step - loss: 0.7261 - output_1_loss: 0.6532 - output_2_loss: 1.3822 - val_loss: 0.7127 - val_output_1_loss: 0.6481 - val_output_2_loss: 1.2945\n",
      "Epoch 5/10\n",
      "363/363 [==============================] - 0s 902us/step - loss: 0.6871 - output_1_loss: 0.6195 - output_2_loss: 1.2953 - val_loss: 0.6846 - val_output_1_loss: 0.6231 - val_output_2_loss: 1.2384\n",
      "Epoch 6/10\n",
      "363/363 [==============================] - 0s 905us/step - loss: 0.6618 - output_1_loss: 0.5969 - output_2_loss: 1.2453 - val_loss: 0.6628 - val_output_1_loss: 0.6030 - val_output_2_loss: 1.2016\n",
      "Epoch 7/10\n",
      "363/363 [==============================] - 0s 910us/step - loss: 0.6424 - output_1_loss: 0.5794 - output_2_loss: 1.2095 - val_loss: 0.6448 - val_output_1_loss: 0.5861 - val_output_2_loss: 1.1732\n",
      "Epoch 8/10\n",
      "363/363 [==============================] - 0s 895us/step - loss: 0.6270 - output_1_loss: 0.5654 - output_2_loss: 1.1813 - val_loss: 0.6316 - val_output_1_loss: 0.5742 - val_output_2_loss: 1.1485\n",
      "Epoch 9/10\n",
      "363/363 [==============================] - 0s 898us/step - loss: 0.6141 - output_1_loss: 0.5541 - output_2_loss: 1.1538 - val_loss: 0.6205 - val_output_1_loss: 0.5641 - val_output_2_loss: 1.1282\n",
      "Epoch 10/10\n",
      "363/363 [==============================] - 0s 903us/step - loss: 0.6029 - output_1_loss: 0.5443 - output_2_loss: 1.1300 - val_loss: 0.6093 - val_output_1_loss: 0.5539 - val_output_2_loss: 1.1079\n",
      "162/162 [==============================] - 0s 534us/step - loss: 0.6222 - output_1_loss: 0.5636 - output_2_loss: 1.1491\n"
     ]
    }
   ],
   "source": [
    "model.compile(loss=\"mse\", loss_weights=[0.9, 0.1], optimizer=keras.optimizers.SGD(lr=1e-3))\n",
    "history = model.fit((X_train_A, X_train_B), (y_train, y_train), epochs=10,\n",
    "                    validation_data=((X_valid_A, X_valid_B), (y_valid, y_valid)))\n",
    "total_loss, main_loss, aux_loss = model.evaluate((X_test_A, X_test_B), (y_test, y_test))\n",
    "y_pred_main, y_pred_aux = model.predict((X_new_A, X_new_B))"
   ]
  },
  {
   "cell_type": "markdown",
   "metadata": {},
   "source": [
    "# Saving and Restoring a Model"
   ]
  },
  {
   "cell_type": "code",
   "execution_count": 34,
   "metadata": {},
   "outputs": [],
   "source": [
    "model = keras.models.Sequential([\n",
    "    keras.layers.Dense(30, activation=\"relu\", input_shape=[8]),\n",
    "    keras.layers.Dense(30, activation=\"relu\"),\n",
    "    keras.layers.Dense(1)\n",
    "])"
   ]
  },
  {
   "cell_type": "code",
   "execution_count": 35,
   "metadata": {},
   "outputs": [
    {
     "name": "stdout",
     "output_type": "stream",
     "text": [
      "Epoch 1/10\n",
      "363/363 [==============================] - 0s 857us/step - loss: 2.4858 - val_loss: 1.1641\n",
      "Epoch 2/10\n",
      "363/363 [==============================] - 0s 744us/step - loss: 0.8902 - val_loss: 0.7752\n",
      "Epoch 3/10\n",
      "363/363 [==============================] - 0s 746us/step - loss: 0.7072 - val_loss: 0.6867\n",
      "Epoch 4/10\n",
      "363/363 [==============================] - 0s 743us/step - loss: 0.6461 - val_loss: 0.6432\n",
      "Epoch 5/10\n",
      "363/363 [==============================] - 0s 741us/step - loss: 0.6096 - val_loss: 0.6124\n",
      "Epoch 6/10\n",
      "363/363 [==============================] - 0s 740us/step - loss: 0.5826 - val_loss: 0.5915\n",
      "Epoch 7/10\n",
      "363/363 [==============================] - 0s 741us/step - loss: 0.5611 - val_loss: 0.5704\n",
      "Epoch 8/10\n",
      "363/363 [==============================] - 0s 747us/step - loss: 0.5432 - val_loss: 0.5543\n",
      "Epoch 9/10\n",
      "363/363 [==============================] - 0s 737us/step - loss: 0.5278 - val_loss: 0.5409\n",
      "Epoch 10/10\n",
      "363/363 [==============================] - 0s 757us/step - loss: 0.5144 - val_loss: 0.5273\n",
      "162/162 [==============================] - 0s 459us/step - loss: 0.5207\n"
     ]
    }
   ],
   "source": [
    "model.compile(loss=\"mse\", optimizer=keras.optimizers.SGD(lr=1e-3))\n",
    "history = model.fit(X_train, y_train, epochs=10, validation_data=(X_valid, y_valid))\n",
    "mse_test = model.evaluate(X_test, y_test)"
   ]
  },
  {
   "cell_type": "code",
   "execution_count": 36,
   "metadata": {},
   "outputs": [],
   "source": [
    "model.save(\"my_keras_model.h5\")"
   ]
  },
  {
   "cell_type": "code",
   "execution_count": 37,
   "metadata": {},
   "outputs": [],
   "source": [
    "model = keras.models.load_model(\"my_keras_model.h5\")"
   ]
  },
  {
   "cell_type": "code",
   "execution_count": 38,
   "metadata": {},
   "outputs": [
    {
     "data": {
      "text/plain": [
       "array([[1.8896794],\n",
       "       [1.5934448],\n",
       "       [3.7622082]], dtype=float32)"
      ]
     },
     "execution_count": 38,
     "metadata": {},
     "output_type": "execute_result"
    }
   ],
   "source": [
    "model.predict(X_new)"
   ]
  },
  {
   "cell_type": "code",
   "execution_count": 39,
   "metadata": {},
   "outputs": [],
   "source": [
    "model.save_weights(\"my_keras_weights.ckpt\")"
   ]
  },
  {
   "cell_type": "code",
   "execution_count": 40,
   "metadata": {},
   "outputs": [
    {
     "data": {
      "text/plain": [
       "<tensorflow.python.training.tracking.util.CheckpointLoadStatus at 0x7f8951f36f90>"
      ]
     },
     "execution_count": 40,
     "metadata": {},
     "output_type": "execute_result"
    }
   ],
   "source": [
    "model.load_weights(\"my_keras_weights.ckpt\")"
   ]
  },
  {
   "cell_type": "code",
   "execution_count": null,
   "metadata": {},
   "outputs": [],
   "source": []
  }
 ],
 "metadata": {
  "kernelspec": {
   "display_name": "Python 3",
   "language": "python",
   "name": "python3"
  },
  "language_info": {
   "codemirror_mode": {
    "name": "ipython",
    "version": 3
   },
   "file_extension": ".py",
   "mimetype": "text/x-python",
   "name": "python",
   "nbconvert_exporter": "python",
   "pygments_lexer": "ipython3",
   "version": "3.7.6"
  }
 },
 "nbformat": 4,
 "nbformat_minor": 4
}
