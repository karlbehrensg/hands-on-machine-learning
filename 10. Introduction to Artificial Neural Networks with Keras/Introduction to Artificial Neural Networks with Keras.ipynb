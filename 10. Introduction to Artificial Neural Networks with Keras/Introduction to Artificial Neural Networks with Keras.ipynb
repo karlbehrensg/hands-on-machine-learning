{
 "cells": [
  {
   "cell_type": "markdown",
   "metadata": {},
   "source": [
    "# Building an Image Classifier Using the Sequential API"
   ]
  },
  {
   "cell_type": "markdown",
   "metadata": {},
   "source": [
    "### Using Keras to load the dataset"
   ]
  },
  {
   "cell_type": "code",
   "execution_count": 1,
   "metadata": {},
   "outputs": [],
   "source": [
    "import tensorflow as tf\n",
    "from tensorflow import keras"
   ]
  },
  {
   "cell_type": "code",
   "execution_count": 2,
   "metadata": {},
   "outputs": [
    {
     "data": {
      "text/plain": [
       "'2.2.0'"
      ]
     },
     "execution_count": 2,
     "metadata": {},
     "output_type": "execute_result"
    }
   ],
   "source": [
    "tf.__version__"
   ]
  },
  {
   "cell_type": "code",
   "execution_count": 3,
   "metadata": {},
   "outputs": [
    {
     "data": {
      "text/plain": [
       "'2.3.0-tf'"
      ]
     },
     "execution_count": 3,
     "metadata": {},
     "output_type": "execute_result"
    }
   ],
   "source": [
    "keras.__version__"
   ]
  },
  {
   "cell_type": "code",
   "execution_count": 4,
   "metadata": {},
   "outputs": [],
   "source": [
    "fashion_mnist = keras.datasets.fashion_mnist\n",
    "(X_train_full, y_train_full), (X_test, y_test) = fashion_mnist.load_data()"
   ]
  },
  {
   "cell_type": "code",
   "execution_count": 5,
   "metadata": {},
   "outputs": [
    {
     "data": {
      "text/plain": [
       "(60000, 28, 28)"
      ]
     },
     "execution_count": 5,
     "metadata": {},
     "output_type": "execute_result"
    }
   ],
   "source": [
    "X_train_full.shape"
   ]
  },
  {
   "cell_type": "code",
   "execution_count": 6,
   "metadata": {},
   "outputs": [
    {
     "data": {
      "text/plain": [
       "dtype('uint8')"
      ]
     },
     "execution_count": 6,
     "metadata": {},
     "output_type": "execute_result"
    }
   ],
   "source": [
    "X_train_full.dtype"
   ]
  },
  {
   "cell_type": "markdown",
   "metadata": {},
   "source": [
    "### Split into a training set and test set, and scale the input features"
   ]
  },
  {
   "cell_type": "code",
   "execution_count": 7,
   "metadata": {},
   "outputs": [],
   "source": [
    "X_valid, X_train = X_train_full[:5000] / 255.0, X_train_full[5000:] / 255.0\n",
    "y_valid, y_train = y_train_full[:5000], y_train_full[5000:]\n",
    "X_test = X_test / 255.0"
   ]
  },
  {
   "cell_type": "markdown",
   "metadata": {},
   "source": [
    "### Labels"
   ]
  },
  {
   "cell_type": "code",
   "execution_count": 8,
   "metadata": {},
   "outputs": [],
   "source": [
    "class_names = ['T-shirt/top', 'Trouser', 'Pullover', 'Dress', 'Coat', \n",
    "               'Sandal', 'Shirt', 'Sneaker', 'Bag', 'Ankle boot']"
   ]
  },
  {
   "cell_type": "code",
   "execution_count": 9,
   "metadata": {},
   "outputs": [
    {
     "data": {
      "text/plain": [
       "'Coat'"
      ]
     },
     "execution_count": 9,
     "metadata": {},
     "output_type": "execute_result"
    }
   ],
   "source": [
    "class_names[y_train[0]]"
   ]
  },
  {
   "cell_type": "markdown",
   "metadata": {},
   "source": [
    "### Creating the model using the Sequential API"
   ]
  },
  {
   "cell_type": "code",
   "execution_count": 10,
   "metadata": {},
   "outputs": [],
   "source": [
    "model = keras.models.Sequential([\n",
    "    keras.layers.Flatten(input_shape=[28, 28]),\n",
    "    keras.layers.Dense(300, activation='relu'),\n",
    "    keras.layers.Dense(100, activation='relu'),\n",
    "    keras.layers.Dense(10, activation='softmax'),\n",
    "])"
   ]
  },
  {
   "cell_type": "markdown",
   "metadata": {},
   "source": [
    "### Summary of the model"
   ]
  },
  {
   "cell_type": "code",
   "execution_count": 11,
   "metadata": {},
   "outputs": [
    {
     "name": "stdout",
     "output_type": "stream",
     "text": [
      "Model: \"sequential\"\n",
      "_________________________________________________________________\n",
      "Layer (type)                 Output Shape              Param #   \n",
      "=================================================================\n",
      "flatten (Flatten)            (None, 784)               0         \n",
      "_________________________________________________________________\n",
      "dense (Dense)                (None, 300)               235500    \n",
      "_________________________________________________________________\n",
      "dense_1 (Dense)              (None, 100)               30100     \n",
      "_________________________________________________________________\n",
      "dense_2 (Dense)              (None, 10)                1010      \n",
      "=================================================================\n",
      "Total params: 266,610\n",
      "Trainable params: 266,610\n",
      "Non-trainable params: 0\n",
      "_________________________________________________________________\n"
     ]
    }
   ],
   "source": [
    "model.summary()"
   ]
  },
  {
   "cell_type": "markdown",
   "metadata": {},
   "source": [
    "### Layers information"
   ]
  },
  {
   "cell_type": "code",
   "execution_count": 12,
   "metadata": {},
   "outputs": [
    {
     "data": {
      "text/plain": [
       "[<tensorflow.python.keras.layers.core.Flatten at 0x7f98f8db7810>,\n",
       " <tensorflow.python.keras.layers.core.Dense at 0x7f98f8db64d0>,\n",
       " <tensorflow.python.keras.layers.core.Dense at 0x7f99000b1c10>,\n",
       " <tensorflow.python.keras.layers.core.Dense at 0x7f99000c9ed0>]"
      ]
     },
     "execution_count": 12,
     "metadata": {},
     "output_type": "execute_result"
    }
   ],
   "source": [
    "model.layers"
   ]
  },
  {
   "cell_type": "code",
   "execution_count": 13,
   "metadata": {},
   "outputs": [],
   "source": [
    "hidden1 = model.layers[1]"
   ]
  },
  {
   "cell_type": "code",
   "execution_count": 14,
   "metadata": {},
   "outputs": [
    {
     "data": {
      "text/plain": [
       "'dense'"
      ]
     },
     "execution_count": 14,
     "metadata": {},
     "output_type": "execute_result"
    }
   ],
   "source": [
    "hidden1.name"
   ]
  },
  {
   "cell_type": "code",
   "execution_count": 15,
   "metadata": {},
   "outputs": [
    {
     "data": {
      "text/plain": [
       "True"
      ]
     },
     "execution_count": 15,
     "metadata": {},
     "output_type": "execute_result"
    }
   ],
   "source": [
    "model.get_layer('dense') is hidden1"
   ]
  },
  {
   "cell_type": "code",
   "execution_count": 16,
   "metadata": {},
   "outputs": [
    {
     "data": {
      "text/plain": [
       "array([[ 0.02307501, -0.01246028,  0.04788158, ..., -0.03677852,\n",
       "         0.06117511,  0.01729409],\n",
       "       [-0.00141763,  0.02519772, -0.00312635, ..., -0.07077061,\n",
       "        -0.02759265,  0.03682721],\n",
       "       [ 0.01817791, -0.01059179, -0.03670741, ...,  0.06626491,\n",
       "        -0.06305983,  0.03103303],\n",
       "       ...,\n",
       "       [-0.04108401,  0.06545383, -0.05250171, ..., -0.0378261 ,\n",
       "         0.00230724, -0.04615338],\n",
       "       [-0.01294739, -0.05991235,  0.06716493, ...,  0.04154367,\n",
       "        -0.06228869,  0.05277647],\n",
       "       [ 0.06325909, -0.06965253, -0.06828006, ..., -0.06505468,\n",
       "         0.07256815, -0.04901189]], dtype=float32)"
      ]
     },
     "execution_count": 16,
     "metadata": {},
     "output_type": "execute_result"
    }
   ],
   "source": [
    "weights, biases = hidden1.get_weights()\n",
    "weights"
   ]
  },
  {
   "cell_type": "code",
   "execution_count": 17,
   "metadata": {},
   "outputs": [
    {
     "data": {
      "text/plain": [
       "(784, 300)"
      ]
     },
     "execution_count": 17,
     "metadata": {},
     "output_type": "execute_result"
    }
   ],
   "source": [
    "weights.shape"
   ]
  },
  {
   "cell_type": "code",
   "execution_count": 18,
   "metadata": {},
   "outputs": [
    {
     "data": {
      "text/plain": [
       "array([0., 0., 0., 0., 0., 0., 0., 0., 0., 0., 0., 0., 0., 0., 0., 0., 0.,\n",
       "       0., 0., 0., 0., 0., 0., 0., 0., 0., 0., 0., 0., 0., 0., 0., 0., 0.,\n",
       "       0., 0., 0., 0., 0., 0., 0., 0., 0., 0., 0., 0., 0., 0., 0., 0., 0.,\n",
       "       0., 0., 0., 0., 0., 0., 0., 0., 0., 0., 0., 0., 0., 0., 0., 0., 0.,\n",
       "       0., 0., 0., 0., 0., 0., 0., 0., 0., 0., 0., 0., 0., 0., 0., 0., 0.,\n",
       "       0., 0., 0., 0., 0., 0., 0., 0., 0., 0., 0., 0., 0., 0., 0., 0., 0.,\n",
       "       0., 0., 0., 0., 0., 0., 0., 0., 0., 0., 0., 0., 0., 0., 0., 0., 0.,\n",
       "       0., 0., 0., 0., 0., 0., 0., 0., 0., 0., 0., 0., 0., 0., 0., 0., 0.,\n",
       "       0., 0., 0., 0., 0., 0., 0., 0., 0., 0., 0., 0., 0., 0., 0., 0., 0.,\n",
       "       0., 0., 0., 0., 0., 0., 0., 0., 0., 0., 0., 0., 0., 0., 0., 0., 0.,\n",
       "       0., 0., 0., 0., 0., 0., 0., 0., 0., 0., 0., 0., 0., 0., 0., 0., 0.,\n",
       "       0., 0., 0., 0., 0., 0., 0., 0., 0., 0., 0., 0., 0., 0., 0., 0., 0.,\n",
       "       0., 0., 0., 0., 0., 0., 0., 0., 0., 0., 0., 0., 0., 0., 0., 0., 0.,\n",
       "       0., 0., 0., 0., 0., 0., 0., 0., 0., 0., 0., 0., 0., 0., 0., 0., 0.,\n",
       "       0., 0., 0., 0., 0., 0., 0., 0., 0., 0., 0., 0., 0., 0., 0., 0., 0.,\n",
       "       0., 0., 0., 0., 0., 0., 0., 0., 0., 0., 0., 0., 0., 0., 0., 0., 0.,\n",
       "       0., 0., 0., 0., 0., 0., 0., 0., 0., 0., 0., 0., 0., 0., 0., 0., 0.,\n",
       "       0., 0., 0., 0., 0., 0., 0., 0., 0., 0., 0.], dtype=float32)"
      ]
     },
     "execution_count": 18,
     "metadata": {},
     "output_type": "execute_result"
    }
   ],
   "source": [
    "biases"
   ]
  },
  {
   "cell_type": "code",
   "execution_count": 19,
   "metadata": {},
   "outputs": [
    {
     "data": {
      "text/plain": [
       "(300,)"
      ]
     },
     "execution_count": 19,
     "metadata": {},
     "output_type": "execute_result"
    }
   ],
   "source": [
    "biases.shape"
   ]
  },
  {
   "cell_type": "markdown",
   "metadata": {},
   "source": [
    "### Compiling the model"
   ]
  },
  {
   "cell_type": "code",
   "execution_count": 20,
   "metadata": {},
   "outputs": [],
   "source": [
    "model.compile(loss='sparse_categorical_crossentropy', optimizer='sgd', metrics=['accuracy'])"
   ]
  },
  {
   "cell_type": "markdown",
   "metadata": {},
   "source": [
    "### Training and evaluating the model"
   ]
  },
  {
   "cell_type": "code",
   "execution_count": 21,
   "metadata": {},
   "outputs": [
    {
     "name": "stdout",
     "output_type": "stream",
     "text": [
      "Epoch 1/30\n",
      "1719/1719 [==============================] - 3s 2ms/step - loss: 0.7158 - accuracy: 0.7627 - val_loss: 0.5188 - val_accuracy: 0.8234\n",
      "Epoch 2/30\n",
      "1719/1719 [==============================] - 3s 2ms/step - loss: 0.4856 - accuracy: 0.8296 - val_loss: 0.4443 - val_accuracy: 0.8532\n",
      "Epoch 3/30\n",
      "1719/1719 [==============================] - 3s 2ms/step - loss: 0.4393 - accuracy: 0.8469 - val_loss: 0.4319 - val_accuracy: 0.8540\n",
      "Epoch 4/30\n",
      "1719/1719 [==============================] - 3s 2ms/step - loss: 0.4113 - accuracy: 0.8555 - val_loss: 0.3922 - val_accuracy: 0.8694\n",
      "Epoch 5/30\n",
      "1719/1719 [==============================] - 3s 2ms/step - loss: 0.3905 - accuracy: 0.8630 - val_loss: 0.3840 - val_accuracy: 0.8662\n",
      "Epoch 6/30\n",
      "1719/1719 [==============================] - 3s 2ms/step - loss: 0.3753 - accuracy: 0.8679 - val_loss: 0.3699 - val_accuracy: 0.8710\n",
      "Epoch 7/30\n",
      "1719/1719 [==============================] - 3s 2ms/step - loss: 0.3615 - accuracy: 0.8729 - val_loss: 0.3678 - val_accuracy: 0.8746\n",
      "Epoch 8/30\n",
      "1719/1719 [==============================] - 3s 2ms/step - loss: 0.3501 - accuracy: 0.8765 - val_loss: 0.3529 - val_accuracy: 0.8766\n",
      "Epoch 9/30\n",
      "1719/1719 [==============================] - 3s 2ms/step - loss: 0.3402 - accuracy: 0.8787 - val_loss: 0.3433 - val_accuracy: 0.8830\n",
      "Epoch 10/30\n",
      "1719/1719 [==============================] - 3s 2ms/step - loss: 0.3301 - accuracy: 0.8827 - val_loss: 0.3414 - val_accuracy: 0.8784\n",
      "Epoch 11/30\n",
      "1719/1719 [==============================] - 3s 2ms/step - loss: 0.3229 - accuracy: 0.8847 - val_loss: 0.3265 - val_accuracy: 0.8858\n",
      "Epoch 12/30\n",
      "1719/1719 [==============================] - 3s 2ms/step - loss: 0.3146 - accuracy: 0.8874 - val_loss: 0.3332 - val_accuracy: 0.8826\n",
      "Epoch 13/30\n",
      "1719/1719 [==============================] - 3s 2ms/step - loss: 0.3069 - accuracy: 0.8911 - val_loss: 0.3437 - val_accuracy: 0.8748\n",
      "Epoch 14/30\n",
      "1719/1719 [==============================] - 3s 2ms/step - loss: 0.2995 - accuracy: 0.8933 - val_loss: 0.3238 - val_accuracy: 0.8850\n",
      "Epoch 15/30\n",
      "1719/1719 [==============================] - 3s 2ms/step - loss: 0.2934 - accuracy: 0.8945 - val_loss: 0.3107 - val_accuracy: 0.8896\n",
      "Epoch 16/30\n",
      "1719/1719 [==============================] - 3s 2ms/step - loss: 0.2880 - accuracy: 0.8970 - val_loss: 0.3179 - val_accuracy: 0.8860\n",
      "Epoch 17/30\n",
      "1719/1719 [==============================] - 3s 1ms/step - loss: 0.2825 - accuracy: 0.8989 - val_loss: 0.3112 - val_accuracy: 0.8888\n",
      "Epoch 18/30\n",
      "1719/1719 [==============================] - 3s 2ms/step - loss: 0.2765 - accuracy: 0.9005 - val_loss: 0.3237 - val_accuracy: 0.8832\n",
      "Epoch 19/30\n",
      "1719/1719 [==============================] - 3s 2ms/step - loss: 0.2721 - accuracy: 0.9028 - val_loss: 0.3130 - val_accuracy: 0.8894\n",
      "Epoch 20/30\n",
      "1719/1719 [==============================] - 3s 2ms/step - loss: 0.2675 - accuracy: 0.9027 - val_loss: 0.3152 - val_accuracy: 0.8892\n",
      "Epoch 21/30\n",
      "1719/1719 [==============================] - 3s 2ms/step - loss: 0.2623 - accuracy: 0.9058 - val_loss: 0.3282 - val_accuracy: 0.8810\n",
      "Epoch 22/30\n",
      "1719/1719 [==============================] - 3s 2ms/step - loss: 0.2582 - accuracy: 0.9074 - val_loss: 0.3276 - val_accuracy: 0.8796\n",
      "Epoch 23/30\n",
      "1719/1719 [==============================] - 3s 2ms/step - loss: 0.2526 - accuracy: 0.9094 - val_loss: 0.2991 - val_accuracy: 0.8924\n",
      "Epoch 24/30\n",
      "1719/1719 [==============================] - 3s 2ms/step - loss: 0.2498 - accuracy: 0.9099 - val_loss: 0.2936 - val_accuracy: 0.8934\n",
      "Epoch 25/30\n",
      "1719/1719 [==============================] - 3s 2ms/step - loss: 0.2442 - accuracy: 0.9121 - val_loss: 0.3066 - val_accuracy: 0.8894\n",
      "Epoch 26/30\n",
      "1719/1719 [==============================] - 3s 2ms/step - loss: 0.2411 - accuracy: 0.9122 - val_loss: 0.3028 - val_accuracy: 0.8956\n",
      "Epoch 27/30\n",
      "1719/1719 [==============================] - 3s 2ms/step - loss: 0.2366 - accuracy: 0.9147 - val_loss: 0.3064 - val_accuracy: 0.8910\n",
      "Epoch 28/30\n",
      "1719/1719 [==============================] - 3s 2ms/step - loss: 0.2332 - accuracy: 0.9162 - val_loss: 0.2907 - val_accuracy: 0.8924\n",
      "Epoch 29/30\n",
      "1719/1719 [==============================] - 3s 2ms/step - loss: 0.2290 - accuracy: 0.9169 - val_loss: 0.2971 - val_accuracy: 0.8940\n",
      "Epoch 30/30\n",
      "1719/1719 [==============================] - 3s 2ms/step - loss: 0.2250 - accuracy: 0.9189 - val_loss: 0.2878 - val_accuracy: 0.8974\n"
     ]
    }
   ],
   "source": [
    "history = model.fit(X_train, y_train, epochs=30, validation_data=(X_valid, y_valid))"
   ]
  },
  {
   "cell_type": "markdown",
   "metadata": {},
   "source": [
    "### History training"
   ]
  },
  {
   "cell_type": "code",
   "execution_count": 22,
   "metadata": {},
   "outputs": [
    {
     "data": {
      "image/png": "[encoded data removed]",
      "text/plain": [
       "<Figure size 1296x576 with 1 Axes>"
      ]
     },
     "metadata": {
      "needs_background": "light"
     },
     "output_type": "display_data"
    }
   ],
   "source": [
    "import pandas as pd\n",
    "import matplotlib.pyplot as plt\n",
    "\n",
    "pd.DataFrame(history.history).plot(figsize=(18, 8))\n",
    "plt.grid(True)\n",
    "plt.gca().set_ylim(0, 1)\n",
    "plt.gca().set_xlim(0, 30)\n",
    "plt.show()"
   ]
  },
  {
   "cell_type": "markdown",
   "metadata": {},
   "source": [
    "### Evaluate model"
   ]
  },
  {
   "cell_type": "code",
   "execution_count": 23,
   "metadata": {},
   "outputs": [
    {
     "name": "stdout",
     "output_type": "stream",
     "text": [
      "313/313 [==============================] - 0s 756us/step - loss: 0.3227 - accuracy: 0.8870\n"
     ]
    },
    {
     "data": {
      "text/plain": [
       "[0.3226943910121918, 0.8870000243186951]"
      ]
     },
     "execution_count": 23,
     "metadata": {},
     "output_type": "execute_result"
    }
   ],
   "source": [
    "model.evaluate(X_test, y_test)"
   ]
  },
  {
   "cell_type": "markdown",
   "metadata": {},
   "source": [
    "### Using the model to make predictions"
   ]
  },
  {
   "cell_type": "code",
   "execution_count": 24,
   "metadata": {},
   "outputs": [
    {
     "data": {
      "text/plain": [
       "array([[0.  , 0.  , 0.  , 0.  , 0.  , 0.  , 0.  , 0.01, 0.  , 0.98],\n",
       "       [0.  , 0.  , 1.  , 0.  , 0.  , 0.  , 0.  , 0.  , 0.  , 0.  ],\n",
       "       [0.  , 1.  , 0.  , 0.  , 0.  , 0.  , 0.  , 0.  , 0.  , 0.  ]],\n",
       "      dtype=float32)"
      ]
     },
     "execution_count": 24,
     "metadata": {},
     "output_type": "execute_result"
    }
   ],
   "source": [
    "X_new = X_test[:3]\n",
    "y_proba = model.predict(X_new)\n",
    "y_proba.round(2)"
   ]
  },
  {
   "cell_type": "code",
   "execution_count": 25,
   "metadata": {},
   "outputs": [
    {
     "data": {
      "text/plain": [
       "array([9, 2, 1])"
      ]
     },
     "execution_count": 25,
     "metadata": {},
     "output_type": "execute_result"
    }
   ],
   "source": [
    "import numpy as np\n",
    "\n",
    "y_pred = np.argmax(model.predict(X_new), axis=-1)\n",
    "y_pred"
   ]
  },
  {
   "cell_type": "code",
   "execution_count": 26,
   "metadata": {},
   "outputs": [
    {
     "data": {
      "text/plain": [
       "array(['Ankle boot', 'Pullover', 'Trouser'], dtype='<U11')"
      ]
     },
     "execution_count": 26,
     "metadata": {},
     "output_type": "execute_result"
    }
   ],
   "source": [
    "np.array(class_names)[y_pred]"
   ]
  },
  {
   "cell_type": "markdown",
   "metadata": {},
   "source": [
    "# Building a Regression MLP Using the Sequential API"
   ]
  },
  {
   "cell_type": "markdown",
   "metadata": {},
   "source": [
    "### Preparing Data"
   ]
  },
  {
   "cell_type": "code",
   "execution_count": 27,
   "metadata": {},
   "outputs": [],
   "source": [
    "from sklearn.datasets import fetch_california_housing\n",
    "from sklearn.model_selection import train_test_split\n",
    "from sklearn.preprocessing import StandardScaler\n",
    "\n",
    "housing = fetch_california_housing()\n",
    "\n",
    "X_train_full, X_test, y_train_full, y_test = train_test_split(housing.data, housing.target)\n",
    "X_train, X_valid, y_train, y_valid = train_test_split(X_train_full, y_train_full)\n",
    "\n",
    "scaler = StandardScaler()\n",
    "X_train = scaler.fit_transform(X_train)\n",
    "X_valid = scaler.transform(X_valid)\n",
    "X_test = scaler.transform(X_test)"
   ]
  },
  {
   "cell_type": "markdown",
   "metadata": {},
   "source": [
    "### Buildding Sequential API"
   ]
  },
  {
   "cell_type": "code",
   "execution_count": 28,
   "metadata": {},
   "outputs": [
    {
     "name": "stdout",
     "output_type": "stream",
     "text": [
      "Epoch 1/20\n",
      "363/363 [==============================] - 0s 808us/step - loss: 0.9317 - val_loss: 0.4626\n",
      "Epoch 2/20\n",
      "363/363 [==============================] - 0s 704us/step - loss: 0.4588 - val_loss: 0.4036\n",
      "Epoch 3/20\n",
      "363/363 [==============================] - 0s 686us/step - loss: 0.4235 - val_loss: 0.3805\n",
      "Epoch 4/20\n",
      "363/363 [==============================] - 0s 701us/step - loss: 0.4032 - val_loss: 0.3901\n",
      "Epoch 5/20\n",
      "363/363 [==============================] - 0s 683us/step - loss: 0.4718 - val_loss: 0.3772\n",
      "Epoch 6/20\n",
      "363/363 [==============================] - 0s 711us/step - loss: 0.4013 - val_loss: 0.3876\n",
      "Epoch 7/20\n",
      "363/363 [==============================] - 0s 697us/step - loss: 0.3896 - val_loss: 0.3690\n",
      "Epoch 8/20\n",
      "363/363 [==============================] - 0s 702us/step - loss: 0.3898 - val_loss: 0.3689\n",
      "Epoch 9/20\n",
      "363/363 [==============================] - 0s 705us/step - loss: 0.3861 - val_loss: 0.3560\n",
      "Epoch 10/20\n",
      "363/363 [==============================] - 0s 698us/step - loss: 0.3864 - val_loss: 0.3567\n",
      "Epoch 11/20\n",
      "363/363 [==============================] - 0s 696us/step - loss: 0.4375 - val_loss: 0.3719\n",
      "Epoch 12/20\n",
      "363/363 [==============================] - 0s 722us/step - loss: 0.3839 - val_loss: 0.3520\n",
      "Epoch 13/20\n",
      "363/363 [==============================] - 0s 707us/step - loss: 0.3837 - val_loss: 0.3458\n",
      "Epoch 14/20\n",
      "363/363 [==============================] - 0s 695us/step - loss: 0.3721 - val_loss: 0.3491\n",
      "Epoch 15/20\n",
      "363/363 [==============================] - 0s 687us/step - loss: 0.3722 - val_loss: 0.3636\n",
      "Epoch 16/20\n",
      "363/363 [==============================] - 0s 717us/step - loss: 0.3694 - val_loss: 0.3643\n",
      "Epoch 17/20\n",
      "363/363 [==============================] - 0s 721us/step - loss: 0.3689 - val_loss: 0.5098\n",
      "Epoch 18/20\n",
      "363/363 [==============================] - 0s 697us/step - loss: 0.3672 - val_loss: 0.3569\n",
      "Epoch 19/20\n",
      "363/363 [==============================] - 0s 692us/step - loss: 0.3652 - val_loss: 0.3434\n",
      "Epoch 20/20\n",
      "363/363 [==============================] - 0s 690us/step - loss: 0.3621 - val_loss: 0.3720\n",
      "162/162 [==============================] - 0s 436us/step - loss: 1.5309\n"
     ]
    }
   ],
   "source": [
    "model = keras.models.Sequential([\n",
    "    keras.layers.Dense(30, activation='relu', input_shape=X_train.shape[1:]),\n",
    "    keras.layers.Dense(1)\n",
    "])\n",
    "\n",
    "model.compile(loss='mean_squared_error', optimizer='sgd')\n",
    "\n",
    "history = model.fit(X_train, y_train, epochs=20, validation_data=(X_valid, y_valid))\n",
    "mse_test = model.evaluate(X_test, y_test)\n",
    "\n",
    "X_new = X_test[:3]\n",
    "y_pred = model.predict(X_new)"
   ]
  },
  {
   "cell_type": "markdown",
   "metadata": {},
   "source": [
    "# Building Complex Models Using the Functional API"
   ]
  },
  {
   "cell_type": "markdown",
   "metadata": {},
   "source": [
    "### Wide Deep neural network"
   ]
  },
  {
   "cell_type": "code",
   "execution_count": 31,
   "metadata": {},
   "outputs": [
    {
     "name": "stdout",
     "output_type": "stream",
     "text": [
      "Epoch 1/20\n",
      "363/363 [==============================] - 0s 881us/step - loss: 0.7628 - val_loss: 0.4662\n",
      "Epoch 2/20\n",
      "363/363 [==============================] - 0s 796us/step - loss: 0.4404 - val_loss: 0.4854\n",
      "Epoch 3/20\n",
      "363/363 [==============================] - 0s 788us/step - loss: 0.4017 - val_loss: 0.4087\n",
      "Epoch 4/20\n",
      "363/363 [==============================] - 0s 773us/step - loss: 0.3900 - val_loss: 0.3627\n",
      "Epoch 5/20\n",
      "363/363 [==============================] - 0s 761us/step - loss: 0.3670 - val_loss: 0.3587\n",
      "Epoch 6/20\n",
      "363/363 [==============================] - 0s 759us/step - loss: 0.3622 - val_loss: 0.3843\n",
      "Epoch 7/20\n",
      "363/363 [==============================] - 0s 754us/step - loss: 0.3571 - val_loss: 0.4208\n",
      "Epoch 8/20\n",
      "363/363 [==============================] - 0s 741us/step - loss: 0.3704 - val_loss: 0.3381\n",
      "Epoch 9/20\n",
      "363/363 [==============================] - 0s 748us/step - loss: 0.3517 - val_loss: 0.3537\n",
      "Epoch 10/20\n",
      "363/363 [==============================] - 0s 765us/step - loss: 0.3493 - val_loss: 0.4747\n",
      "Epoch 11/20\n",
      "363/363 [==============================] - 0s 755us/step - loss: 0.3453 - val_loss: 0.3308\n",
      "Epoch 12/20\n",
      "363/363 [==============================] - 0s 736us/step - loss: 0.3414 - val_loss: 0.3213\n",
      "Epoch 13/20\n",
      "363/363 [==============================] - 0s 732us/step - loss: 0.3677 - val_loss: 0.3306\n",
      "Epoch 14/20\n",
      "363/363 [==============================] - 0s 744us/step - loss: 0.3365 - val_loss: 0.3219\n",
      "Epoch 15/20\n",
      "363/363 [==============================] - 0s 754us/step - loss: 0.3333 - val_loss: 0.3464\n",
      "Epoch 16/20\n",
      "363/363 [==============================] - 0s 751us/step - loss: 0.3349 - val_loss: 0.3201\n",
      "Epoch 17/20\n",
      "363/363 [==============================] - 0s 755us/step - loss: 0.3308 - val_loss: 0.3142\n",
      "Epoch 18/20\n",
      "363/363 [==============================] - 0s 756us/step - loss: 0.3296 - val_loss: 0.3068\n",
      "Epoch 19/20\n",
      "363/363 [==============================] - 0s 766us/step - loss: 0.3268 - val_loss: 0.3924\n",
      "Epoch 20/20\n",
      "363/363 [==============================] - 0s 1ms/step - loss: 0.3263 - val_loss: 0.3082\n",
      "162/162 [==============================] - 0s 454us/step - loss: 0.4096\n"
     ]
    }
   ],
   "source": [
    "input_ = keras.layers.Input(shape=X_train.shape[1:])\n",
    "hidden1 = keras.layers.Dense(30, activation='relu')(input_)\n",
    "hidden2 = keras.layers.Dense(30, activation='relu')(hidden1)\n",
    "concat = keras.layers.Concatenate()([input_, hidden2])\n",
    "output = keras.layers.Dense(1)(concat)\n",
    "model = keras.Model(inputs=[input_], outputs=[output])\n",
    "\n",
    "model.compile(loss='mean_squared_error', optimizer='sgd')\n",
    "\n",
    "history = model.fit(X_train, y_train, epochs=20, validation_data=(X_valid, y_valid))\n",
    "mse_test = model.evaluate(X_test, y_test)\n",
    "\n",
    "X_new = X_test[:3]\n",
    "y_pred = model.predict(X_new)"
   ]
  },
  {
   "cell_type": "markdown",
   "metadata": {},
   "source": [
    "### Handling multiple inputs"
   ]
  },
  {
   "cell_type": "code",
   "execution_count": 38,
   "metadata": {
    "scrolled": false
   },
   "outputs": [
    {
     "name": "stdout",
     "output_type": "stream",
     "text": [
      "Epoch 1/20\n",
      "363/363 [==============================] - 0s 898us/step - loss: 2.3397 - val_loss: 0.9847\n",
      "Epoch 2/20\n",
      "363/363 [==============================] - 0s 796us/step - loss: 0.8032 - val_loss: 0.6698\n",
      "Epoch 3/20\n",
      "363/363 [==============================] - 0s 805us/step - loss: 0.6549 - val_loss: 0.5973\n",
      "Epoch 4/20\n",
      "363/363 [==============================] - 0s 799us/step - loss: 0.6008 - val_loss: 0.5550\n",
      "Epoch 5/20\n",
      "363/363 [==============================] - 0s 789us/step - loss: 0.5661 - val_loss: 0.5215\n",
      "Epoch 6/20\n",
      "363/363 [==============================] - 0s 796us/step - loss: 0.5389 - val_loss: 0.4983\n",
      "Epoch 7/20\n",
      "363/363 [==============================] - 0s 794us/step - loss: 0.5174 - val_loss: 0.4798\n",
      "Epoch 8/20\n",
      "363/363 [==============================] - 0s 784us/step - loss: 0.4993 - val_loss: 0.4647\n",
      "Epoch 9/20\n",
      "363/363 [==============================] - 0s 808us/step - loss: 0.4847 - val_loss: 0.4500\n",
      "Epoch 10/20\n",
      "363/363 [==============================] - 0s 794us/step - loss: 0.4720 - val_loss: 0.4407\n",
      "Epoch 11/20\n",
      "363/363 [==============================] - 0s 792us/step - loss: 0.4614 - val_loss: 0.4331\n",
      "Epoch 12/20\n",
      "363/363 [==============================] - 0s 790us/step - loss: 0.4529 - val_loss: 0.4232\n",
      "Epoch 13/20\n",
      "363/363 [==============================] - 0s 792us/step - loss: 0.4447 - val_loss: 0.4189\n",
      "Epoch 14/20\n",
      "363/363 [==============================] - 0s 791us/step - loss: 0.4386 - val_loss: 0.4137\n",
      "Epoch 15/20\n",
      "363/363 [==============================] - 0s 789us/step - loss: 0.4319 - val_loss: 0.4074\n",
      "Epoch 16/20\n",
      "363/363 [==============================] - 0s 793us/step - loss: 0.4274 - val_loss: 0.4017\n",
      "Epoch 17/20\n",
      "363/363 [==============================] - 0s 809us/step - loss: 0.4222 - val_loss: 0.3991\n",
      "Epoch 18/20\n",
      "363/363 [==============================] - 0s 786us/step - loss: 0.4207 - val_loss: 0.3938\n",
      "Epoch 19/20\n",
      "363/363 [==============================] - 0s 799us/step - loss: 0.4167 - val_loss: 0.3924\n",
      "Epoch 20/20\n",
      "363/363 [==============================] - 0s 800us/step - loss: 0.4138 - val_loss: 0.3893\n",
      "162/162 [==============================] - 0s 468us/step - loss: 0.4350\n"
     ]
    }
   ],
   "source": [
    "input_A = keras.layers.Input(shape=[5], name='wide_input')\n",
    "input_B = keras.layers.Input(shape=[6], name='deep_input')\n",
    "hidden1 = keras.layers.Dense(30, activation='relu')(input_B)\n",
    "hidden2 = keras.layers.Dense(30, activation='relu')(hidden1)\n",
    "concat = keras.layers.concatenate([input_A, hidden2])\n",
    "output = keras.layers.Dense(1, name='output')(concat)\n",
    "model = keras.Model(inputs=[input_A, input_B], outputs=[output])\n",
    "\n",
    "model.compile(loss=\"mse\", optimizer=keras.optimizers.SGD(lr=1e-3))\n",
    "\n",
    "X_train_A, X_train_B = X_train[:, :5], X_train[:, 2:]\n",
    "X_valid_A, X_valid_B = X_valid[:, :5], X_valid[:, 2:]\n",
    "X_test_A, X_test_B = X_test[:, :5], X_test[:, 2:]\n",
    "X_new_A, X_new_B = X_test_A[:3], X_test_B[:3]\n",
    "\n",
    "history = model.fit((X_train_A, X_train_B), y_train, epochs=20, validation_data=((X_valid_A, X_valid_B), y_valid))\n",
    "mse_test = model.evaluate((X_test_A, X_test_B), y_test)\n",
    "y_pred = model.predict((X_new_A, X_new_B))"
   ]
  },
  {
   "cell_type": "markdown",
   "metadata": {},
   "source": [
    "### Handling multiple outputs"
   ]
  },
  {
   "cell_type": "code",
   "execution_count": 41,
   "metadata": {},
   "outputs": [
    {
     "name": "stdout",
     "output_type": "stream",
     "text": [
      "Epoch 1/20\n",
      "363/363 [==============================] - 0s 1ms/step - loss: 1.0346 - output_loss: 0.9539 - aux_output_loss: 1.7604 - val_loss: 0.5491 - val_output_loss: 0.4727 - val_aux_output_loss: 1.2375\n",
      "Epoch 2/20\n",
      "363/363 [==============================] - 0s 921us/step - loss: 0.5359 - output_loss: 0.4733 - aux_output_loss: 1.0990 - val_loss: 0.4650 - val_output_loss: 0.4100 - val_aux_output_loss: 0.9594\n",
      "Epoch 3/20\n",
      "363/363 [==============================] - 0s 940us/step - loss: 0.4735 - output_loss: 0.4263 - aux_output_loss: 0.8983 - val_loss: 0.4299 - val_output_loss: 0.3894 - val_aux_output_loss: 0.7945\n",
      "Epoch 4/20\n",
      "363/363 [==============================] - 0s 905us/step - loss: 0.4619 - output_loss: 0.4286 - aux_output_loss: 0.7619 - val_loss: 0.4157 - val_output_loss: 0.3846 - val_aux_output_loss: 0.6949\n",
      "Epoch 5/20\n",
      "363/363 [==============================] - 0s 906us/step - loss: 0.4279 - output_loss: 0.4005 - aux_output_loss: 0.6746 - val_loss: 0.3953 - val_output_loss: 0.3701 - val_aux_output_loss: 0.6219\n",
      "Epoch 6/20\n",
      "363/363 [==============================] - 0s 930us/step - loss: 0.4131 - output_loss: 0.3902 - aux_output_loss: 0.6199 - val_loss: 0.3835 - val_output_loss: 0.3626 - val_aux_output_loss: 0.5718\n",
      "Epoch 7/20\n",
      "363/363 [==============================] - 0s 919us/step - loss: 0.3993 - output_loss: 0.3794 - aux_output_loss: 0.5785 - val_loss: 0.3730 - val_output_loss: 0.3552 - val_aux_output_loss: 0.5336\n",
      "Epoch 8/20\n",
      "363/363 [==============================] - 0s 911us/step - loss: 0.3931 - output_loss: 0.3755 - aux_output_loss: 0.5512 - val_loss: 0.3721 - val_output_loss: 0.3555 - val_aux_output_loss: 0.5219\n",
      "Epoch 9/20\n",
      "363/363 [==============================] - 0s 951us/step - loss: 0.3869 - output_loss: 0.3706 - aux_output_loss: 0.5335 - val_loss: 0.3604 - val_output_loss: 0.3447 - val_aux_output_loss: 0.5016\n",
      "Epoch 10/20\n",
      "363/363 [==============================] - 0s 1ms/step - loss: 0.3806 - output_loss: 0.3652 - aux_output_loss: 0.5188 - val_loss: 0.3583 - val_output_loss: 0.3441 - val_aux_output_loss: 0.4864\n",
      "Epoch 11/20\n",
      "363/363 [==============================] - 0s 955us/step - loss: 0.3760 - output_loss: 0.3613 - aux_output_loss: 0.5085 - val_loss: 0.3508 - val_output_loss: 0.3363 - val_aux_output_loss: 0.4809\n",
      "Epoch 12/20\n",
      "363/363 [==============================] - 0s 898us/step - loss: 0.3726 - output_loss: 0.3587 - aux_output_loss: 0.4984 - val_loss: 0.3517 - val_output_loss: 0.3378 - val_aux_output_loss: 0.4774\n",
      "Epoch 13/20\n",
      "363/363 [==============================] - 0s 953us/step - loss: 0.3706 - output_loss: 0.3569 - aux_output_loss: 0.4933 - val_loss: 0.3423 - val_output_loss: 0.3284 - val_aux_output_loss: 0.4675\n",
      "Epoch 14/20\n",
      "363/363 [==============================] - 0s 924us/step - loss: 0.3687 - output_loss: 0.3556 - aux_output_loss: 0.4866 - val_loss: 0.3520 - val_output_loss: 0.3382 - val_aux_output_loss: 0.4765\n",
      "Epoch 15/20\n",
      "363/363 [==============================] - 0s 942us/step - loss: 0.3646 - output_loss: 0.3515 - aux_output_loss: 0.4824 - val_loss: 0.3796 - val_output_loss: 0.3676 - val_aux_output_loss: 0.4875\n",
      "Epoch 16/20\n",
      "363/363 [==============================] - 0s 909us/step - loss: 0.3678 - output_loss: 0.3560 - aux_output_loss: 0.4742 - val_loss: 0.3625 - val_output_loss: 0.3503 - val_aux_output_loss: 0.4721\n",
      "Epoch 17/20\n",
      "363/363 [==============================] - 0s 901us/step - loss: 0.3628 - output_loss: 0.3509 - aux_output_loss: 0.4707 - val_loss: 0.3350 - val_output_loss: 0.3230 - val_aux_output_loss: 0.4425\n",
      "Epoch 18/20\n",
      "363/363 [==============================] - 0s 908us/step - loss: 0.3568 - output_loss: 0.3448 - aux_output_loss: 0.4643 - val_loss: 0.3336 - val_output_loss: 0.3218 - val_aux_output_loss: 0.4391\n",
      "Epoch 19/20\n",
      "363/363 [==============================] - 0s 894us/step - loss: 0.3541 - output_loss: 0.3426 - aux_output_loss: 0.4579 - val_loss: 0.3292 - val_output_loss: 0.3179 - val_aux_output_loss: 0.4309\n",
      "Epoch 20/20\n",
      "363/363 [==============================] - 0s 895us/step - loss: 0.3506 - output_loss: 0.3392 - aux_output_loss: 0.4533 - val_loss: 0.3523 - val_output_loss: 0.3418 - val_aux_output_loss: 0.4473\n",
      "162/162 [==============================] - 0s 524us/step - loss: 1.0837 - output_loss: 1.0684 - aux_output_loss: 1.2219\n"
     ]
    }
   ],
   "source": [
    "input_A = keras.layers.Input(shape=[5], name='wide_input')\n",
    "input_B = keras.layers.Input(shape=[6], name='deep_input')\n",
    "hidden1 = keras.layers.Dense(30, activation='relu')(input_B)\n",
    "hidden2 = keras.layers.Dense(30, activation='relu')(hidden1)\n",
    "concat = keras.layers.concatenate([input_A, hidden2])\n",
    "output = keras.layers.Dense(1, name='output')(concat)\n",
    "aux_output = keras.layers.Dense(1, name='aux_output')(hidden2)\n",
    "model = keras.Model(inputs=[input_A, input_B], outputs=[output, aux_output])\n",
    "\n",
    "model.compile(loss=['mse', 'mse'], loss_weights=[0.9, 0.1], optimizer='sgd')\n",
    "\n",
    "X_train_A, X_train_B = X_train[:, :5], X_train[:, 2:]\n",
    "X_valid_A, X_valid_B = X_valid[:, :5], X_valid[:, 2:]\n",
    "X_test_A, X_test_B = X_test[:, :5], X_test[:, 2:]\n",
    "X_new_A, X_new_B = X_test_A[:3], X_test_B[:3]\n",
    "\n",
    "history = model.fit([X_train_A, X_train_B], [y_train, y_train], epochs=20, validation_data=([X_valid_A, X_valid_B], [y_valid, y_valid]))\n",
    "total_loss, main_loss, aux_loss = model.evaluate([X_test_A, X_test_B], [y_test, y_test])\n",
    "y_pred_main, y_pred_aux = model.predict([X_new_A, X_new_B])"
   ]
  },
  {
   "cell_type": "code",
   "execution_count": null,
   "metadata": {},
   "outputs": [],
   "source": []
  }
 ],
 "metadata": {
  "kernelspec": {
   "display_name": "Python 3",
   "language": "python",
   "name": "python3"
  },
  "language_info": {
   "codemirror_mode": {
    "name": "ipython",
    "version": 3
   },
   "file_extension": ".py",
   "mimetype": "text/x-python",
   "name": "python",
   "nbconvert_exporter": "python",
   "pygments_lexer": "ipython3",
   "version": "3.7.6"
  }
 },
 "nbformat": 4,
 "nbformat_minor": 4
}
