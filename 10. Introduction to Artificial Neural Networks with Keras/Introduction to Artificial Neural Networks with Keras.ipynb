{
 "cells": [
  {
   "cell_type": "markdown",
   "metadata": {},
   "source": [
    "# Building an Image Classifier Using the Sequential API"
   ]
  },
  {
   "cell_type": "markdown",
   "metadata": {},
   "source": [
    "### Using Keras to load the dataset"
   ]
  },
  {
   "cell_type": "code",
   "execution_count": 1,
   "metadata": {},
   "outputs": [],
   "source": [
    "import tensorflow as tf\n",
    "from tensorflow import keras"
   ]
  },
  {
   "cell_type": "code",
   "execution_count": 2,
   "metadata": {},
   "outputs": [
    {
     "data": {
      "text/plain": [
       "'2.2.0'"
      ]
     },
     "execution_count": 2,
     "metadata": {},
     "output_type": "execute_result"
    }
   ],
   "source": [
    "tf.__version__"
   ]
  },
  {
   "cell_type": "code",
   "execution_count": 3,
   "metadata": {},
   "outputs": [
    {
     "data": {
      "text/plain": [
       "'2.3.0-tf'"
      ]
     },
     "execution_count": 3,
     "metadata": {},
     "output_type": "execute_result"
    }
   ],
   "source": [
    "keras.__version__"
   ]
  },
  {
   "cell_type": "code",
   "execution_count": 4,
   "metadata": {},
   "outputs": [],
   "source": [
    "fashion_mnist = keras.datasets.fashion_mnist\n",
    "(X_train_full, y_train_full), (X_test, y_test) = fashion_mnist.load_data()"
   ]
  },
  {
   "cell_type": "code",
   "execution_count": 5,
   "metadata": {},
   "outputs": [
    {
     "data": {
      "text/plain": [
       "(60000, 28, 28)"
      ]
     },
     "execution_count": 5,
     "metadata": {},
     "output_type": "execute_result"
    }
   ],
   "source": [
    "X_train_full.shape"
   ]
  },
  {
   "cell_type": "code",
   "execution_count": 6,
   "metadata": {},
   "outputs": [
    {
     "data": {
      "text/plain": [
       "dtype('uint8')"
      ]
     },
     "execution_count": 6,
     "metadata": {},
     "output_type": "execute_result"
    }
   ],
   "source": [
    "X_train_full.dtype"
   ]
  },
  {
   "cell_type": "markdown",
   "metadata": {},
   "source": [
    "### Split into a training set and test set, and scale the input features"
   ]
  },
  {
   "cell_type": "code",
   "execution_count": 7,
   "metadata": {},
   "outputs": [],
   "source": [
    "X_valid, X_train = X_train_full[:5000] / 255.0, X_train_full[5000:] / 255.0\n",
    "y_valid, y_train = y_train_full[:5000], y_train_full[5000:]\n",
    "X_test = X_test / 255.0"
   ]
  },
  {
   "cell_type": "markdown",
   "metadata": {},
   "source": [
    "### Labels"
   ]
  },
  {
   "cell_type": "code",
   "execution_count": 8,
   "metadata": {},
   "outputs": [],
   "source": [
    "class_names = ['T-shirt/top', 'Trouser', 'Pullover', 'Dress', 'Coat', \n",
    "               'Sandal', 'Shirt', 'Sneaker', 'Bag', 'Ankle boot']"
   ]
  },
  {
   "cell_type": "code",
   "execution_count": 9,
   "metadata": {},
   "outputs": [
    {
     "data": {
      "text/plain": [
       "'Coat'"
      ]
     },
     "execution_count": 9,
     "metadata": {},
     "output_type": "execute_result"
    }
   ],
   "source": [
    "class_names[y_train[0]]"
   ]
  },
  {
   "cell_type": "markdown",
   "metadata": {},
   "source": [
    "### Creating the model using the Sequential API"
   ]
  },
  {
   "cell_type": "code",
   "execution_count": 10,
   "metadata": {},
   "outputs": [],
   "source": [
    "model = keras.models.Sequential([\n",
    "    keras.layers.Flatten(input_shape=[28, 28]),\n",
    "    keras.layers.Dense(300, activation='relu'),\n",
    "    keras.layers.Dense(100, activation='relu'),\n",
    "    keras.layers.Dense(10, activation='softmax'),\n",
    "])"
   ]
  },
  {
   "cell_type": "markdown",
   "metadata": {},
   "source": [
    "### Summary of the model"
   ]
  },
  {
   "cell_type": "code",
   "execution_count": 11,
   "metadata": {},
   "outputs": [
    {
     "name": "stdout",
     "output_type": "stream",
     "text": [
      "Model: \"sequential\"\n",
      "_________________________________________________________________\n",
      "Layer (type)                 Output Shape              Param #   \n",
      "=================================================================\n",
      "flatten (Flatten)            (None, 784)               0         \n",
      "_________________________________________________________________\n",
      "dense (Dense)                (None, 300)               235500    \n",
      "_________________________________________________________________\n",
      "dense_1 (Dense)              (None, 100)               30100     \n",
      "_________________________________________________________________\n",
      "dense_2 (Dense)              (None, 10)                1010      \n",
      "=================================================================\n",
      "Total params: 266,610\n",
      "Trainable params: 266,610\n",
      "Non-trainable params: 0\n",
      "_________________________________________________________________\n"
     ]
    }
   ],
   "source": [
    "model.summary()"
   ]
  },
  {
   "cell_type": "markdown",
   "metadata": {},
   "source": [
    "### Layers information"
   ]
  },
  {
   "cell_type": "code",
   "execution_count": 12,
   "metadata": {},
   "outputs": [
    {
     "data": {
      "text/plain": [
       "[<tensorflow.python.keras.layers.core.Flatten at 0x7f8f0b287610>,\n",
       " <tensorflow.python.keras.layers.core.Dense at 0x7f8f0b286510>,\n",
       " <tensorflow.python.keras.layers.core.Dense at 0x7f8f12e9bad0>,\n",
       " <tensorflow.python.keras.layers.core.Dense at 0x7f8f12eb2fd0>]"
      ]
     },
     "execution_count": 12,
     "metadata": {},
     "output_type": "execute_result"
    }
   ],
   "source": [
    "model.layers"
   ]
  },
  {
   "cell_type": "code",
   "execution_count": 13,
   "metadata": {},
   "outputs": [],
   "source": [
    "hidden1 = model.layers[1]"
   ]
  },
  {
   "cell_type": "code",
   "execution_count": 14,
   "metadata": {},
   "outputs": [
    {
     "data": {
      "text/plain": [
       "'dense'"
      ]
     },
     "execution_count": 14,
     "metadata": {},
     "output_type": "execute_result"
    }
   ],
   "source": [
    "hidden1.name"
   ]
  },
  {
   "cell_type": "code",
   "execution_count": 15,
   "metadata": {},
   "outputs": [
    {
     "data": {
      "text/plain": [
       "True"
      ]
     },
     "execution_count": 15,
     "metadata": {},
     "output_type": "execute_result"
    }
   ],
   "source": [
    "model.get_layer('dense') is hidden1"
   ]
  },
  {
   "cell_type": "code",
   "execution_count": 16,
   "metadata": {},
   "outputs": [
    {
     "data": {
      "text/plain": [
       "array([[-0.01009262, -0.00391889, -0.02914878, ...,  0.01352123,\n",
       "         0.04749099,  0.02853217],\n",
       "       [ 0.01067308,  0.07069631, -0.054462  , ..., -0.0392646 ,\n",
       "        -0.04654817, -0.06295471],\n",
       "       [ 0.01266043, -0.01810366,  0.03695272, ..., -0.03937062,\n",
       "        -0.01537218, -0.02476561],\n",
       "       ...,\n",
       "       [-0.05862541,  0.02016501, -0.03522294, ...,  0.03699134,\n",
       "        -0.01689089, -0.0060087 ],\n",
       "       [-0.03605882, -0.0239052 , -0.04748067, ...,  0.00303221,\n",
       "         0.05177179,  0.03254829],\n",
       "       [ 0.0498861 ,  0.02001663, -0.02323835, ...,  0.04921468,\n",
       "         0.04050671, -0.04543248]], dtype=float32)"
      ]
     },
     "execution_count": 16,
     "metadata": {},
     "output_type": "execute_result"
    }
   ],
   "source": [
    "weights, biases = hidden1.get_weights()\n",
    "weights"
   ]
  },
  {
   "cell_type": "code",
   "execution_count": 17,
   "metadata": {},
   "outputs": [
    {
     "data": {
      "text/plain": [
       "(784, 300)"
      ]
     },
     "execution_count": 17,
     "metadata": {},
     "output_type": "execute_result"
    }
   ],
   "source": [
    "weights.shape"
   ]
  },
  {
   "cell_type": "code",
   "execution_count": 18,
   "metadata": {},
   "outputs": [
    {
     "data": {
      "text/plain": [
       "array([0., 0., 0., 0., 0., 0., 0., 0., 0., 0., 0., 0., 0., 0., 0., 0., 0.,\n",
       "       0., 0., 0., 0., 0., 0., 0., 0., 0., 0., 0., 0., 0., 0., 0., 0., 0.,\n",
       "       0., 0., 0., 0., 0., 0., 0., 0., 0., 0., 0., 0., 0., 0., 0., 0., 0.,\n",
       "       0., 0., 0., 0., 0., 0., 0., 0., 0., 0., 0., 0., 0., 0., 0., 0., 0.,\n",
       "       0., 0., 0., 0., 0., 0., 0., 0., 0., 0., 0., 0., 0., 0., 0., 0., 0.,\n",
       "       0., 0., 0., 0., 0., 0., 0., 0., 0., 0., 0., 0., 0., 0., 0., 0., 0.,\n",
       "       0., 0., 0., 0., 0., 0., 0., 0., 0., 0., 0., 0., 0., 0., 0., 0., 0.,\n",
       "       0., 0., 0., 0., 0., 0., 0., 0., 0., 0., 0., 0., 0., 0., 0., 0., 0.,\n",
       "       0., 0., 0., 0., 0., 0., 0., 0., 0., 0., 0., 0., 0., 0., 0., 0., 0.,\n",
       "       0., 0., 0., 0., 0., 0., 0., 0., 0., 0., 0., 0., 0., 0., 0., 0., 0.,\n",
       "       0., 0., 0., 0., 0., 0., 0., 0., 0., 0., 0., 0., 0., 0., 0., 0., 0.,\n",
       "       0., 0., 0., 0., 0., 0., 0., 0., 0., 0., 0., 0., 0., 0., 0., 0., 0.,\n",
       "       0., 0., 0., 0., 0., 0., 0., 0., 0., 0., 0., 0., 0., 0., 0., 0., 0.,\n",
       "       0., 0., 0., 0., 0., 0., 0., 0., 0., 0., 0., 0., 0., 0., 0., 0., 0.,\n",
       "       0., 0., 0., 0., 0., 0., 0., 0., 0., 0., 0., 0., 0., 0., 0., 0., 0.,\n",
       "       0., 0., 0., 0., 0., 0., 0., 0., 0., 0., 0., 0., 0., 0., 0., 0., 0.,\n",
       "       0., 0., 0., 0., 0., 0., 0., 0., 0., 0., 0., 0., 0., 0., 0., 0., 0.,\n",
       "       0., 0., 0., 0., 0., 0., 0., 0., 0., 0., 0.], dtype=float32)"
      ]
     },
     "execution_count": 18,
     "metadata": {},
     "output_type": "execute_result"
    }
   ],
   "source": [
    "biases"
   ]
  },
  {
   "cell_type": "code",
   "execution_count": 19,
   "metadata": {},
   "outputs": [
    {
     "data": {
      "text/plain": [
       "(300,)"
      ]
     },
     "execution_count": 19,
     "metadata": {},
     "output_type": "execute_result"
    }
   ],
   "source": [
    "biases.shape"
   ]
  },
  {
   "cell_type": "markdown",
   "metadata": {},
   "source": [
    "### Compiling the model"
   ]
  },
  {
   "cell_type": "code",
   "execution_count": 20,
   "metadata": {},
   "outputs": [],
   "source": [
    "model.compile(loss='sparse_categorical_crossentropy', optimizer='sgd', metrics=['accuracy'])"
   ]
  },
  {
   "cell_type": "markdown",
   "metadata": {},
   "source": [
    "### Training and evaluating the model"
   ]
  },
  {
   "cell_type": "code",
   "execution_count": 21,
   "metadata": {},
   "outputs": [
    {
     "name": "stdout",
     "output_type": "stream",
     "text": [
      "Epoch 1/30\n",
      "1719/1719 [==============================] - 3s 2ms/step - loss: 0.7167 - accuracy: 0.7649 - val_loss: 0.5319 - val_accuracy: 0.8170\n",
      "Epoch 2/30\n",
      "1719/1719 [==============================] - 3s 1ms/step - loss: 0.4916 - accuracy: 0.8301 - val_loss: 0.4488 - val_accuracy: 0.8432\n",
      "Epoch 3/30\n",
      "1719/1719 [==============================] - 3s 2ms/step - loss: 0.4450 - accuracy: 0.8437 - val_loss: 0.4345 - val_accuracy: 0.8466\n",
      "Epoch 4/30\n",
      "1719/1719 [==============================] - 3s 2ms/step - loss: 0.4193 - accuracy: 0.8538 - val_loss: 0.4065 - val_accuracy: 0.8642\n",
      "Epoch 5/30\n",
      "1719/1719 [==============================] - 3s 2ms/step - loss: 0.3977 - accuracy: 0.8613 - val_loss: 0.3880 - val_accuracy: 0.8640\n",
      "Epoch 6/30\n",
      "1719/1719 [==============================] - 3s 2ms/step - loss: 0.3811 - accuracy: 0.8665 - val_loss: 0.3722 - val_accuracy: 0.8698\n",
      "Epoch 7/30\n",
      "1719/1719 [==============================] - 3s 2ms/step - loss: 0.3690 - accuracy: 0.8696 - val_loss: 0.3803 - val_accuracy: 0.8702\n",
      "Epoch 8/30\n",
      "1719/1719 [==============================] - 3s 2ms/step - loss: 0.3566 - accuracy: 0.8734 - val_loss: 0.3602 - val_accuracy: 0.8778\n",
      "Epoch 9/30\n",
      "1719/1719 [==============================] - 3s 2ms/step - loss: 0.3464 - accuracy: 0.8772 - val_loss: 0.3599 - val_accuracy: 0.8760\n",
      "Epoch 10/30\n",
      "1719/1719 [==============================] - 3s 2ms/step - loss: 0.3373 - accuracy: 0.8795 - val_loss: 0.3477 - val_accuracy: 0.8800\n",
      "Epoch 11/30\n",
      "1719/1719 [==============================] - 3s 2ms/step - loss: 0.3277 - accuracy: 0.8833 - val_loss: 0.3464 - val_accuracy: 0.8810\n",
      "Epoch 12/30\n",
      "1719/1719 [==============================] - 3s 2ms/step - loss: 0.3204 - accuracy: 0.8852 - val_loss: 0.3564 - val_accuracy: 0.8752\n",
      "Epoch 13/30\n",
      "1719/1719 [==============================] - 3s 2ms/step - loss: 0.3131 - accuracy: 0.8880 - val_loss: 0.3399 - val_accuracy: 0.8806\n",
      "Epoch 14/30\n",
      "1719/1719 [==============================] - 3s 2ms/step - loss: 0.3063 - accuracy: 0.8915 - val_loss: 0.3217 - val_accuracy: 0.8844\n",
      "Epoch 15/30\n",
      "1719/1719 [==============================] - 3s 2ms/step - loss: 0.2985 - accuracy: 0.8932 - val_loss: 0.3311 - val_accuracy: 0.8832\n",
      "Epoch 16/30\n",
      "1719/1719 [==============================] - 3s 2ms/step - loss: 0.2933 - accuracy: 0.8953 - val_loss: 0.3307 - val_accuracy: 0.8820\n",
      "Epoch 17/30\n",
      "1719/1719 [==============================] - 3s 2ms/step - loss: 0.2862 - accuracy: 0.8974 - val_loss: 0.3318 - val_accuracy: 0.8840\n",
      "Epoch 18/30\n",
      "1719/1719 [==============================] - 3s 2ms/step - loss: 0.2818 - accuracy: 0.8988 - val_loss: 0.3195 - val_accuracy: 0.8872\n",
      "Epoch 19/30\n",
      "1719/1719 [==============================] - 3s 2ms/step - loss: 0.2765 - accuracy: 0.9003 - val_loss: 0.3256 - val_accuracy: 0.8854\n",
      "Epoch 20/30\n",
      "1719/1719 [==============================] - 3s 2ms/step - loss: 0.2707 - accuracy: 0.9027 - val_loss: 0.3239 - val_accuracy: 0.8864\n",
      "Epoch 21/30\n",
      "1719/1719 [==============================] - 3s 2ms/step - loss: 0.2668 - accuracy: 0.9043 - val_loss: 0.3319 - val_accuracy: 0.8836\n",
      "Epoch 22/30\n",
      "1719/1719 [==============================] - 3s 2ms/step - loss: 0.2612 - accuracy: 0.9059 - val_loss: 0.3321 - val_accuracy: 0.8762\n",
      "Epoch 23/30\n",
      "1719/1719 [==============================] - 3s 2ms/step - loss: 0.2569 - accuracy: 0.9078 - val_loss: 0.3040 - val_accuracy: 0.8884\n",
      "Epoch 24/30\n",
      "1719/1719 [==============================] - 3s 2ms/step - loss: 0.2513 - accuracy: 0.9099 - val_loss: 0.3085 - val_accuracy: 0.8910\n",
      "Epoch 25/30\n",
      "1719/1719 [==============================] - 3s 2ms/step - loss: 0.2476 - accuracy: 0.9110 - val_loss: 0.3152 - val_accuracy: 0.8876\n",
      "Epoch 26/30\n",
      "1719/1719 [==============================] - 3s 2ms/step - loss: 0.2427 - accuracy: 0.9128 - val_loss: 0.3206 - val_accuracy: 0.8880\n",
      "Epoch 27/30\n",
      "1719/1719 [==============================] - 3s 2ms/step - loss: 0.2389 - accuracy: 0.9135 - val_loss: 0.2992 - val_accuracy: 0.8914\n",
      "Epoch 28/30\n",
      "1719/1719 [==============================] - 3s 2ms/step - loss: 0.2350 - accuracy: 0.9158 - val_loss: 0.2949 - val_accuracy: 0.8966\n",
      "Epoch 29/30\n",
      "1719/1719 [==============================] - 3s 2ms/step - loss: 0.2314 - accuracy: 0.9167 - val_loss: 0.2954 - val_accuracy: 0.8918\n",
      "Epoch 30/30\n",
      "1719/1719 [==============================] - 3s 2ms/step - loss: 0.2259 - accuracy: 0.9189 - val_loss: 0.3193 - val_accuracy: 0.8858\n"
     ]
    }
   ],
   "source": [
    "history = model.fit(X_train, y_train, epochs=30, validation_data=(X_valid, y_valid))"
   ]
  },
  {
   "cell_type": "markdown",
   "metadata": {},
   "source": [
    "### History training"
   ]
  },
  {
   "cell_type": "code",
   "execution_count": 22,
   "metadata": {},
   "outputs": [
    {
     "data": {
      "image/png": "[encoded data removed]",
      "text/plain": [
       "<Figure size 1296x576 with 1 Axes>"
      ]
     },
     "metadata": {
      "needs_background": "light"
     },
     "output_type": "display_data"
    }
   ],
   "source": [
    "import pandas as pd\n",
    "import matplotlib.pyplot as plt\n",
    "\n",
    "pd.DataFrame(history.history).plot(figsize=(18, 8))\n",
    "plt.grid(True)\n",
    "plt.gca().set_ylim(0, 1)\n",
    "plt.gca().set_xlim(0, 30)\n",
    "plt.show()"
   ]
  },
  {
   "cell_type": "markdown",
   "metadata": {},
   "source": [
    "### Evaluate model"
   ]
  },
  {
   "cell_type": "code",
   "execution_count": 23,
   "metadata": {},
   "outputs": [
    {
     "name": "stdout",
     "output_type": "stream",
     "text": [
      "313/313 [==============================] - 0s 742us/step - loss: 0.3505 - accuracy: 0.8776\n"
     ]
    },
    {
     "data": {
      "text/plain": [
       "[0.3505459129810333, 0.8776000142097473]"
      ]
     },
     "execution_count": 23,
     "metadata": {},
     "output_type": "execute_result"
    }
   ],
   "source": [
    "model.evaluate(X_test, y_test)"
   ]
  },
  {
   "cell_type": "markdown",
   "metadata": {},
   "source": [
    "### Using the model to make predictions"
   ]
  },
  {
   "cell_type": "code",
   "execution_count": 24,
   "metadata": {},
   "outputs": [
    {
     "data": {
      "text/plain": [
       "array([[0.  , 0.  , 0.  , 0.  , 0.  , 0.  , 0.  , 0.05, 0.  , 0.95],\n",
       "       [0.  , 0.  , 1.  , 0.  , 0.  , 0.  , 0.  , 0.  , 0.  , 0.  ],\n",
       "       [0.  , 1.  , 0.  , 0.  , 0.  , 0.  , 0.  , 0.  , 0.  , 0.  ]],\n",
       "      dtype=float32)"
      ]
     },
     "execution_count": 24,
     "metadata": {},
     "output_type": "execute_result"
    }
   ],
   "source": [
    "X_new = X_test[:3]\n",
    "y_proba = model.predict(X_new)\n",
    "y_proba.round(2)"
   ]
  },
  {
   "cell_type": "code",
   "execution_count": 25,
   "metadata": {},
   "outputs": [
    {
     "data": {
      "text/plain": [
       "array([9, 2, 1])"
      ]
     },
     "execution_count": 25,
     "metadata": {},
     "output_type": "execute_result"
    }
   ],
   "source": [
    "import numpy as np\n",
    "\n",
    "y_pred = np.argmax(model.predict(X_new), axis=-1)\n",
    "y_pred"
   ]
  },
  {
   "cell_type": "code",
   "execution_count": 26,
   "metadata": {},
   "outputs": [
    {
     "data": {
      "text/plain": [
       "array(['Ankle boot', 'Pullover', 'Trouser'], dtype='<U11')"
      ]
     },
     "execution_count": 26,
     "metadata": {},
     "output_type": "execute_result"
    }
   ],
   "source": [
    "np.array(class_names)[y_pred]"
   ]
  },
  {
   "cell_type": "markdown",
   "metadata": {},
   "source": [
    "# Building a Regression MLP Using the Sequential API"
   ]
  },
  {
   "cell_type": "markdown",
   "metadata": {},
   "source": [
    "### Preparing Data"
   ]
  },
  {
   "cell_type": "code",
   "execution_count": 27,
   "metadata": {},
   "outputs": [],
   "source": [
    "from sklearn.datasets import fetch_california_housing\n",
    "from sklearn.model_selection import train_test_split\n",
    "from sklearn.preprocessing import StandardScaler\n",
    "\n",
    "housing = fetch_california_housing()\n",
    "\n",
    "X_train_full, X_test, y_train_full, y_test = train_test_split(housing.data, housing.target)\n",
    "X_train, X_valid, y_train, y_valid = train_test_split(X_train_full, y_train_full)\n",
    "\n",
    "scaler = StandardScaler()\n",
    "X_train = scaler.fit_transform(X_train)\n",
    "X_valid = scaler.transform(X_valid)\n",
    "X_test = scaler.transform(X_test)"
   ]
  },
  {
   "cell_type": "markdown",
   "metadata": {},
   "source": [
    "### Buildding Sequential API"
   ]
  },
  {
   "cell_type": "code",
   "execution_count": 28,
   "metadata": {},
   "outputs": [
    {
     "name": "stdout",
     "output_type": "stream",
     "text": [
      "Epoch 1/20\n",
      "363/363 [==============================] - 0s 805us/step - loss: 0.9249 - val_loss: 0.5483\n",
      "Epoch 2/20\n",
      "363/363 [==============================] - 0s 699us/step - loss: 0.5321 - val_loss: 0.4778\n",
      "Epoch 3/20\n",
      "363/363 [==============================] - 0s 706us/step - loss: 0.4878 - val_loss: 0.4573\n",
      "Epoch 4/20\n",
      "363/363 [==============================] - 0s 707us/step - loss: 0.4669 - val_loss: 0.4639\n",
      "Epoch 5/20\n",
      "363/363 [==============================] - 0s 704us/step - loss: 0.4580 - val_loss: 0.4663\n",
      "Epoch 6/20\n",
      "363/363 [==============================] - 0s 698us/step - loss: 0.4565 - val_loss: 0.4310\n",
      "Epoch 7/20\n",
      "363/363 [==============================] - 0s 707us/step - loss: 0.4406 - val_loss: 0.4479\n",
      "Epoch 8/20\n",
      "363/363 [==============================] - 0s 703us/step - loss: 0.4349 - val_loss: 0.4202\n",
      "Epoch 9/20\n",
      "363/363 [==============================] - 0s 695us/step - loss: 0.4277 - val_loss: 0.4154\n",
      "Epoch 10/20\n",
      "363/363 [==============================] - 0s 715us/step - loss: 0.4285 - val_loss: 0.4142\n",
      "Epoch 11/20\n",
      "363/363 [==============================] - 0s 709us/step - loss: 0.4157 - val_loss: 0.4101\n",
      "Epoch 12/20\n",
      "363/363 [==============================] - 0s 729us/step - loss: 0.4093 - val_loss: 0.4006\n",
      "Epoch 13/20\n",
      "363/363 [==============================] - 0s 689us/step - loss: 0.4138 - val_loss: 0.4043\n",
      "Epoch 14/20\n",
      "363/363 [==============================] - 0s 703us/step - loss: 0.4017 - val_loss: 0.4667\n",
      "Epoch 15/20\n",
      "363/363 [==============================] - 0s 699us/step - loss: 0.3992 - val_loss: 0.3935\n",
      "Epoch 16/20\n",
      "363/363 [==============================] - 0s 700us/step - loss: 0.3943 - val_loss: 0.3906\n",
      "Epoch 17/20\n",
      "363/363 [==============================] - 0s 695us/step - loss: 0.3920 - val_loss: 0.3902\n",
      "Epoch 18/20\n",
      "363/363 [==============================] - 0s 702us/step - loss: 0.3865 - val_loss: 0.4686\n",
      "Epoch 19/20\n",
      "363/363 [==============================] - 0s 704us/step - loss: 0.3874 - val_loss: 0.3881\n",
      "Epoch 20/20\n",
      "363/363 [==============================] - 0s 707us/step - loss: 0.3846 - val_loss: 0.3819\n",
      "162/162 [==============================] - 0s 450us/step - loss: 0.3718\n"
     ]
    }
   ],
   "source": [
    "model = keras.models.Sequential([\n",
    "    keras.layers.Dense(30, activation='relu', input_shape=X_train.shape[1:]),\n",
    "    keras.layers.Dense(1)\n",
    "])\n",
    "\n",
    "model.compile(loss='mean_squared_error', optimizer='sgd')\n",
    "\n",
    "history = model.fit(X_train, y_train, epochs=20, validation_data=(X_valid, y_valid))\n",
    "mse_test = model.evaluate(X_test, y_test)\n",
    "\n",
    "X_new = X_test[:3]\n",
    "y_pred = model.predict(X_new)"
   ]
  },
  {
   "cell_type": "markdown",
   "metadata": {},
   "source": [
    "# Building Complex Models Using the Functional API"
   ]
  },
  {
   "cell_type": "markdown",
   "metadata": {},
   "source": [
    "### Wide Deep neural network"
   ]
  },
  {
   "cell_type": "code",
   "execution_count": 29,
   "metadata": {},
   "outputs": [
    {
     "name": "stdout",
     "output_type": "stream",
     "text": [
      "Epoch 1/20\n",
      "363/363 [==============================] - 0s 869us/step - loss: 0.9655 - val_loss: 0.6327\n",
      "Epoch 2/20\n",
      "363/363 [==============================] - 0s 760us/step - loss: 2.5597 - val_loss: 0.6586\n",
      "Epoch 3/20\n",
      "363/363 [==============================] - 0s 765us/step - loss: 6.1102 - val_loss: 0.5867\n",
      "Epoch 4/20\n",
      "363/363 [==============================] - 0s 759us/step - loss: 0.7763 - val_loss: 0.5074\n",
      "Epoch 5/20\n",
      "363/363 [==============================] - 0s 764us/step - loss: 3.0054 - val_loss: 0.5747\n",
      "Epoch 6/20\n",
      "363/363 [==============================] - 0s 768us/step - loss: 0.5803 - val_loss: 0.3956\n",
      "Epoch 7/20\n",
      "363/363 [==============================] - 0s 748us/step - loss: 0.4182 - val_loss: 0.3944\n",
      "Epoch 8/20\n",
      "363/363 [==============================] - 0s 738us/step - loss: 0.3942 - val_loss: 0.3737\n",
      "Epoch 9/20\n",
      "363/363 [==============================] - 0s 761us/step - loss: 0.3894 - val_loss: 0.3823\n",
      "Epoch 10/20\n",
      "363/363 [==============================] - 0s 752us/step - loss: 0.3854 - val_loss: 0.3643\n",
      "Epoch 11/20\n",
      "363/363 [==============================] - 0s 773us/step - loss: 0.3711 - val_loss: 0.3633\n",
      "Epoch 12/20\n",
      "363/363 [==============================] - 0s 776us/step - loss: 0.3674 - val_loss: 0.3789\n",
      "Epoch 13/20\n",
      "363/363 [==============================] - 0s 747us/step - loss: 0.3766 - val_loss: 0.3591\n",
      "Epoch 14/20\n",
      "363/363 [==============================] - 0s 764us/step - loss: 0.3592 - val_loss: 0.3643\n",
      "Epoch 15/20\n",
      "363/363 [==============================] - 0s 751us/step - loss: 0.3592 - val_loss: 0.3622\n",
      "Epoch 16/20\n",
      "363/363 [==============================] - 0s 769us/step - loss: 0.5263 - val_loss: 0.3542\n",
      "Epoch 17/20\n",
      "363/363 [==============================] - 0s 760us/step - loss: 0.3572 - val_loss: 0.3444\n",
      "Epoch 18/20\n",
      "363/363 [==============================] - 0s 749us/step - loss: 0.3483 - val_loss: 0.3419\n",
      "Epoch 19/20\n",
      "363/363 [==============================] - 0s 759us/step - loss: 0.3544 - val_loss: 0.3465\n",
      "Epoch 20/20\n",
      "363/363 [==============================] - 0s 765us/step - loss: 0.3481 - val_loss: 0.3454\n",
      "162/162 [==============================] - 0s 455us/step - loss: 0.3384\n"
     ]
    }
   ],
   "source": [
    "input_ = keras.layers.Input(shape=X_train.shape[1:])\n",
    "hidden1 = keras.layers.Dense(30, activation='relu')(input_)\n",
    "hidden2 = keras.layers.Dense(30, activation='relu')(hidden1)\n",
    "concat = keras.layers.Concatenate()([input_, hidden2])\n",
    "output = keras.layers.Dense(1)(concat)\n",
    "model = keras.Model(inputs=[input_], outputs=[output])\n",
    "\n",
    "model.compile(loss='mean_squared_error', optimizer='sgd')\n",
    "\n",
    "history = model.fit(X_train, y_train, epochs=20, validation_data=(X_valid, y_valid))\n",
    "mse_test = model.evaluate(X_test, y_test)\n",
    "\n",
    "X_new = X_test[:3]\n",
    "y_pred = model.predict(X_new)"
   ]
  },
  {
   "cell_type": "markdown",
   "metadata": {},
   "source": [
    "### Handling multiple inputs"
   ]
  },
  {
   "cell_type": "code",
   "execution_count": 30,
   "metadata": {
    "scrolled": false
   },
   "outputs": [
    {
     "name": "stdout",
     "output_type": "stream",
     "text": [
      "Epoch 1/20\n",
      "363/363 [==============================] - 0s 909us/step - loss: 2.0096 - val_loss: 0.9723\n",
      "Epoch 2/20\n",
      "363/363 [==============================] - 0s 788us/step - loss: 0.8829 - val_loss: 0.7346\n",
      "Epoch 3/20\n",
      "363/363 [==============================] - 0s 793us/step - loss: 0.7330 - val_loss: 0.6534\n",
      "Epoch 4/20\n",
      "363/363 [==============================] - 0s 790us/step - loss: 0.6725 - val_loss: 0.6128\n",
      "Epoch 5/20\n",
      "363/363 [==============================] - 0s 788us/step - loss: 0.6379 - val_loss: 0.5877\n",
      "Epoch 6/20\n",
      "363/363 [==============================] - 0s 793us/step - loss: 0.6145 - val_loss: 0.5693\n",
      "Epoch 7/20\n",
      "363/363 [==============================] - 0s 806us/step - loss: 0.5965 - val_loss: 0.5564\n",
      "Epoch 8/20\n",
      "363/363 [==============================] - 0s 824us/step - loss: 0.5818 - val_loss: 0.5436\n",
      "Epoch 9/20\n",
      "363/363 [==============================] - 0s 799us/step - loss: 0.5693 - val_loss: 0.5337\n",
      "Epoch 10/20\n",
      "363/363 [==============================] - 0s 816us/step - loss: 0.5580 - val_loss: 0.5251\n",
      "Epoch 11/20\n",
      "363/363 [==============================] - 0s 812us/step - loss: 0.5485 - val_loss: 0.5174\n",
      "Epoch 12/20\n",
      "363/363 [==============================] - 0s 792us/step - loss: 0.5403 - val_loss: 0.5118\n",
      "Epoch 13/20\n",
      "363/363 [==============================] - 0s 804us/step - loss: 0.5330 - val_loss: 0.5049\n",
      "Epoch 14/20\n",
      "363/363 [==============================] - 0s 793us/step - loss: 0.5273 - val_loss: 0.5023\n",
      "Epoch 15/20\n",
      "363/363 [==============================] - 0s 797us/step - loss: 0.5220 - val_loss: 0.4979\n",
      "Epoch 16/20\n",
      "363/363 [==============================] - 0s 790us/step - loss: 0.5176 - val_loss: 0.4924\n",
      "Epoch 17/20\n",
      "363/363 [==============================] - 0s 816us/step - loss: 0.5132 - val_loss: 0.4906\n",
      "Epoch 18/20\n",
      "363/363 [==============================] - 0s 790us/step - loss: 0.5096 - val_loss: 0.4869\n",
      "Epoch 19/20\n",
      "363/363 [==============================] - 0s 797us/step - loss: 0.5063 - val_loss: 0.4844\n",
      "Epoch 20/20\n",
      "363/363 [==============================] - 0s 798us/step - loss: 0.5031 - val_loss: 0.4828\n",
      "162/162 [==============================] - 0s 487us/step - loss: 0.4911\n"
     ]
    }
   ],
   "source": [
    "input_A = keras.layers.Input(shape=[5], name='wide_input')\n",
    "input_B = keras.layers.Input(shape=[6], name='deep_input')\n",
    "hidden1 = keras.layers.Dense(30, activation='relu')(input_B)\n",
    "hidden2 = keras.layers.Dense(30, activation='relu')(hidden1)\n",
    "concat = keras.layers.concatenate([input_A, hidden2])\n",
    "output = keras.layers.Dense(1, name='output')(concat)\n",
    "model = keras.Model(inputs=[input_A, input_B], outputs=[output])\n",
    "\n",
    "model.compile(loss=\"mse\", optimizer=keras.optimizers.SGD(lr=1e-3))\n",
    "\n",
    "X_train_A, X_train_B = X_train[:, :5], X_train[:, 2:]\n",
    "X_valid_A, X_valid_B = X_valid[:, :5], X_valid[:, 2:]\n",
    "X_test_A, X_test_B = X_test[:, :5], X_test[:, 2:]\n",
    "X_new_A, X_new_B = X_test_A[:3], X_test_B[:3]\n",
    "\n",
    "history = model.fit((X_train_A, X_train_B), y_train, epochs=20, validation_data=((X_valid_A, X_valid_B), y_valid))\n",
    "mse_test = model.evaluate((X_test_A, X_test_B), y_test)\n",
    "y_pred = model.predict((X_new_A, X_new_B))"
   ]
  },
  {
   "cell_type": "markdown",
   "metadata": {},
   "source": [
    "### Handling multiple outputs"
   ]
  },
  {
   "cell_type": "code",
   "execution_count": 31,
   "metadata": {},
   "outputs": [
    {
     "name": "stdout",
     "output_type": "stream",
     "text": [
      "Epoch 1/20\n",
      "363/363 [==============================] - 0s 1ms/step - loss: 0.8891 - output_loss: 0.7611 - aux_output_loss: 2.0414 - val_loss: 0.9691 - val_output_loss: 0.9450 - val_aux_output_loss: 1.1864\n",
      "Epoch 2/20\n",
      "363/363 [==============================] - 0s 913us/step - loss: 0.5725 - output_loss: 0.5181 - aux_output_loss: 1.0619 - val_loss: 0.5102 - val_output_loss: 0.4638 - val_aux_output_loss: 0.9278\n",
      "Epoch 3/20\n",
      "363/363 [==============================] - 0s 909us/step - loss: 0.5129 - output_loss: 0.4702 - aux_output_loss: 0.8970 - val_loss: 0.4857 - val_output_loss: 0.4491 - val_aux_output_loss: 0.8145\n",
      "Epoch 4/20\n",
      "363/363 [==============================] - 0s 902us/step - loss: 0.4972 - output_loss: 0.4628 - aux_output_loss: 0.8064 - val_loss: 0.4718 - val_output_loss: 0.4411 - val_aux_output_loss: 0.7477\n",
      "Epoch 5/20\n",
      "363/363 [==============================] - 0s 898us/step - loss: 0.4792 - output_loss: 0.4496 - aux_output_loss: 0.7456 - val_loss: 0.4611 - val_output_loss: 0.4355 - val_aux_output_loss: 0.6917\n",
      "Epoch 6/20\n",
      "363/363 [==============================] - 0s 898us/step - loss: 0.4688 - output_loss: 0.4424 - aux_output_loss: 0.7062 - val_loss: 0.4445 - val_output_loss: 0.4204 - val_aux_output_loss: 0.6612\n",
      "Epoch 7/20\n",
      "363/363 [==============================] - 0s 903us/step - loss: 0.4561 - output_loss: 0.4317 - aux_output_loss: 0.6763 - val_loss: 0.4353 - val_output_loss: 0.4141 - val_aux_output_loss: 0.6257\n",
      "Epoch 8/20\n",
      "363/363 [==============================] - 0s 925us/step - loss: 0.4473 - output_loss: 0.4249 - aux_output_loss: 0.6491 - val_loss: 0.4318 - val_output_loss: 0.4130 - val_aux_output_loss: 0.6005\n",
      "Epoch 9/20\n",
      "363/363 [==============================] - 0s 902us/step - loss: 0.4383 - output_loss: 0.4172 - aux_output_loss: 0.6286 - val_loss: 0.4137 - val_output_loss: 0.3953 - val_aux_output_loss: 0.5795\n",
      "Epoch 10/20\n",
      "363/363 [==============================] - 0s 901us/step - loss: 0.4314 - output_loss: 0.4115 - aux_output_loss: 0.6113 - val_loss: 0.4138 - val_output_loss: 0.3956 - val_aux_output_loss: 0.5780\n",
      "Epoch 11/20\n",
      "363/363 [==============================] - 0s 902us/step - loss: 0.4241 - output_loss: 0.4048 - aux_output_loss: 0.5976 - val_loss: 0.4160 - val_output_loss: 0.4006 - val_aux_output_loss: 0.5546\n",
      "Epoch 12/20\n",
      "363/363 [==============================] - 0s 892us/step - loss: 0.4241 - output_loss: 0.4059 - aux_output_loss: 0.5880 - val_loss: 0.3957 - val_output_loss: 0.3791 - val_aux_output_loss: 0.5455\n",
      "Epoch 13/20\n",
      "363/363 [==============================] - 0s 898us/step - loss: 0.4149 - output_loss: 0.3974 - aux_output_loss: 0.5725 - val_loss: 0.4270 - val_output_loss: 0.4133 - val_aux_output_loss: 0.5506\n",
      "Epoch 14/20\n",
      "363/363 [==============================] - 0s 893us/step - loss: 0.4064 - output_loss: 0.3890 - aux_output_loss: 0.5631 - val_loss: 0.3920 - val_output_loss: 0.3777 - val_aux_output_loss: 0.5214\n",
      "Epoch 15/20\n",
      "363/363 [==============================] - 0s 909us/step - loss: 0.3992 - output_loss: 0.3822 - aux_output_loss: 0.5522 - val_loss: 0.4083 - val_output_loss: 0.3961 - val_aux_output_loss: 0.5176\n",
      "Epoch 16/20\n",
      "363/363 [==============================] - 0s 915us/step - loss: 0.3971 - output_loss: 0.3809 - aux_output_loss: 0.5429 - val_loss: 0.3772 - val_output_loss: 0.3631 - val_aux_output_loss: 0.5040\n",
      "Epoch 17/20\n",
      "363/363 [==============================] - 0s 901us/step - loss: 0.3913 - output_loss: 0.3755 - aux_output_loss: 0.5337 - val_loss: 0.3779 - val_output_loss: 0.3646 - val_aux_output_loss: 0.4971\n",
      "Epoch 18/20\n",
      "363/363 [==============================] - 0s 908us/step - loss: 0.3882 - output_loss: 0.3729 - aux_output_loss: 0.5260 - val_loss: 0.3754 - val_output_loss: 0.3625 - val_aux_output_loss: 0.4910\n",
      "Epoch 19/20\n",
      "363/363 [==============================] - 0s 898us/step - loss: 0.3849 - output_loss: 0.3700 - aux_output_loss: 0.5187 - val_loss: 0.3688 - val_output_loss: 0.3559 - val_aux_output_loss: 0.4849\n",
      "Epoch 20/20\n",
      "363/363 [==============================] - 0s 906us/step - loss: 0.3839 - output_loss: 0.3694 - aux_output_loss: 0.5147 - val_loss: 0.3715 - val_output_loss: 0.3592 - val_aux_output_loss: 0.4827\n",
      "162/162 [==============================] - 0s 539us/step - loss: 0.3791 - output_loss: 0.3649 - aux_output_loss: 0.5069\n"
     ]
    }
   ],
   "source": [
    "input_A = keras.layers.Input(shape=[5], name='wide_input')\n",
    "input_B = keras.layers.Input(shape=[6], name='deep_input')\n",
    "hidden1 = keras.layers.Dense(30, activation='relu')(input_B)\n",
    "hidden2 = keras.layers.Dense(30, activation='relu')(hidden1)\n",
    "concat = keras.layers.concatenate([input_A, hidden2])\n",
    "output = keras.layers.Dense(1, name='output')(concat)\n",
    "aux_output = keras.layers.Dense(1, name='aux_output')(hidden2)\n",
    "model = keras.Model(inputs=[input_A, input_B], outputs=[output, aux_output])\n",
    "\n",
    "model.compile(loss=['mse', 'mse'], loss_weights=[0.9, 0.1], optimizer='sgd')\n",
    "\n",
    "X_train_A, X_train_B = X_train[:, :5], X_train[:, 2:]\n",
    "X_valid_A, X_valid_B = X_valid[:, :5], X_valid[:, 2:]\n",
    "X_test_A, X_test_B = X_test[:, :5], X_test[:, 2:]\n",
    "X_new_A, X_new_B = X_test_A[:3], X_test_B[:3]\n",
    "\n",
    "history = model.fit([X_train_A, X_train_B], [y_train, y_train], epochs=20, validation_data=([X_valid_A, X_valid_B], [y_valid, y_valid]))\n",
    "total_loss, main_loss, aux_loss = model.evaluate([X_test_A, X_test_B], [y_test, y_test])\n",
    "y_pred_main, y_pred_aux = model.predict([X_new_A, X_new_B])"
   ]
  },
  {
   "cell_type": "markdown",
   "metadata": {},
   "source": [
    "# Using the Subclassing API to Build Dynamic Models"
   ]
  },
  {
   "cell_type": "code",
   "execution_count": 32,
   "metadata": {},
   "outputs": [],
   "source": [
    "class WideAndDeepModel(keras.Model):\n",
    "    def __init__(self, units=30, activation=\"relu\", **kwargs):\n",
    "        super().__init__(**kwargs)\n",
    "        self.hidden1 = keras.layers.Dense(units, activation=activation)\n",
    "        self.hidden2 = keras.layers.Dense(units, activation=activation)\n",
    "        self.main_output = keras.layers.Dense(1)\n",
    "        self.aux_output = keras.layers.Dense(1)\n",
    "        \n",
    "    def call(self, inputs):\n",
    "        input_A, input_B = inputs\n",
    "        hidden1 = self.hidden1(input_B)\n",
    "        hidden2 = self.hidden2(hidden1)\n",
    "        concat = keras.layers.concatenate([input_A, hidden2])\n",
    "        main_output = self.main_output(concat)\n",
    "        aux_output = self.aux_output(hidden2)\n",
    "        return main_output, aux_output\n",
    "    \n",
    "model = WideAndDeepModel()"
   ]
  },
  {
   "cell_type": "code",
   "execution_count": 33,
   "metadata": {},
   "outputs": [
    {
     "name": "stdout",
     "output_type": "stream",
     "text": [
      "Epoch 1/10\n",
      "363/363 [==============================] - 0s 1ms/step - loss: 2.9797 - output_1_loss: 2.8620 - output_2_loss: 4.0387 - val_loss: 1.3554 - val_output_1_loss: 1.1598 - val_output_2_loss: 3.1162\n",
      "Epoch 2/10\n",
      "363/363 [==============================] - 0s 893us/step - loss: 1.1830 - output_1_loss: 1.0053 - output_2_loss: 2.7825 - val_loss: 0.9616 - val_output_1_loss: 0.8251 - val_output_2_loss: 2.1904\n",
      "Epoch 3/10\n",
      "363/363 [==============================] - 0s 898us/step - loss: 0.9419 - output_1_loss: 0.8101 - output_2_loss: 2.1275 - val_loss: 0.8240 - val_output_1_loss: 0.7217 - val_output_2_loss: 1.7447\n",
      "Epoch 4/10\n",
      "363/363 [==============================] - 0s 900us/step - loss: 0.8406 - output_1_loss: 0.7342 - output_2_loss: 1.7985 - val_loss: 0.7587 - val_output_1_loss: 0.6735 - val_output_2_loss: 1.5259\n",
      "Epoch 5/10\n",
      "363/363 [==============================] - 0s 905us/step - loss: 0.7842 - output_1_loss: 0.6912 - output_2_loss: 1.6209 - val_loss: 0.7161 - val_output_1_loss: 0.6387 - val_output_2_loss: 1.4127\n",
      "Epoch 6/10\n",
      "363/363 [==============================] - 0s 914us/step - loss: 0.7466 - output_1_loss: 0.6614 - output_2_loss: 1.5136 - val_loss: 0.6856 - val_output_1_loss: 0.6125 - val_output_2_loss: 1.3439\n",
      "Epoch 7/10\n",
      "363/363 [==============================] - 0s 896us/step - loss: 0.7197 - output_1_loss: 0.6396 - output_2_loss: 1.4400 - val_loss: 0.6676 - val_output_1_loss: 0.5979 - val_output_2_loss: 1.2949\n",
      "Epoch 8/10\n",
      "363/363 [==============================] - 0s 894us/step - loss: 0.6992 - output_1_loss: 0.6232 - output_2_loss: 1.3834 - val_loss: 0.6486 - val_output_1_loss: 0.5811 - val_output_2_loss: 1.2561\n",
      "Epoch 9/10\n",
      "363/363 [==============================] - 0s 889us/step - loss: 0.6824 - output_1_loss: 0.6096 - output_2_loss: 1.3376 - val_loss: 0.6386 - val_output_1_loss: 0.5734 - val_output_2_loss: 1.2253\n",
      "Epoch 10/10\n",
      "363/363 [==============================] - 0s 899us/step - loss: 0.6686 - output_1_loss: 0.5986 - output_2_loss: 1.2991 - val_loss: 0.6275 - val_output_1_loss: 0.5642 - val_output_2_loss: 1.1976\n",
      "162/162 [==============================] - 0s 544us/step - loss: 0.6511 - output_1_loss: 0.5864 - output_2_loss: 1.2337\n"
     ]
    }
   ],
   "source": [
    "model.compile(loss=\"mse\", loss_weights=[0.9, 0.1], optimizer=keras.optimizers.SGD(lr=1e-3))\n",
    "history = model.fit((X_train_A, X_train_B), (y_train, y_train), epochs=10,\n",
    "                    validation_data=((X_valid_A, X_valid_B), (y_valid, y_valid)))\n",
    "total_loss, main_loss, aux_loss = model.evaluate((X_test_A, X_test_B), (y_test, y_test))\n",
    "y_pred_main, y_pred_aux = model.predict((X_new_A, X_new_B))"
   ]
  },
  {
   "cell_type": "markdown",
   "metadata": {},
   "source": [
    "# Saving and Restoring a Model"
   ]
  },
  {
   "cell_type": "code",
   "execution_count": 34,
   "metadata": {},
   "outputs": [],
   "source": [
    "model = keras.models.Sequential([\n",
    "    keras.layers.Dense(30, activation=\"relu\", input_shape=[8]),\n",
    "    keras.layers.Dense(30, activation=\"relu\"),\n",
    "    keras.layers.Dense(1)\n",
    "])"
   ]
  },
  {
   "cell_type": "code",
   "execution_count": 35,
   "metadata": {},
   "outputs": [
    {
     "name": "stdout",
     "output_type": "stream",
     "text": [
      "Epoch 1/10\n",
      "363/363 [==============================] - 0s 857us/step - loss: 2.1229 - val_loss: 1.0669\n",
      "Epoch 2/10\n",
      "363/363 [==============================] - 0s 748us/step - loss: 0.8715 - val_loss: 0.7087\n",
      "Epoch 3/10\n",
      "363/363 [==============================] - 0s 745us/step - loss: 0.6965 - val_loss: 0.6286\n",
      "Epoch 4/10\n",
      "363/363 [==============================] - 0s 748us/step - loss: 0.6387 - val_loss: 0.5920\n",
      "Epoch 5/10\n",
      "363/363 [==============================] - 0s 746us/step - loss: 0.6038 - val_loss: 0.5662\n",
      "Epoch 6/10\n",
      "363/363 [==============================] - 0s 747us/step - loss: 0.5769 - val_loss: 0.5440\n",
      "Epoch 7/10\n",
      "363/363 [==============================] - 0s 742us/step - loss: 0.5551 - val_loss: 0.5266\n",
      "Epoch 8/10\n",
      "363/363 [==============================] - 0s 749us/step - loss: 0.5376 - val_loss: 0.5131\n",
      "Epoch 9/10\n",
      "363/363 [==============================] - 0s 746us/step - loss: 0.5234 - val_loss: 0.5017\n",
      "Epoch 10/10\n",
      "363/363 [==============================] - 0s 751us/step - loss: 0.5111 - val_loss: 0.4937\n",
      "162/162 [==============================] - 0s 460us/step - loss: 0.4943\n"
     ]
    }
   ],
   "source": [
    "model.compile(loss=\"mse\", optimizer=keras.optimizers.SGD(lr=1e-3))\n",
    "history = model.fit(X_train, y_train, epochs=10, validation_data=(X_valid, y_valid))\n",
    "mse_test = model.evaluate(X_test, y_test)"
   ]
  },
  {
   "cell_type": "code",
   "execution_count": 36,
   "metadata": {},
   "outputs": [
    {
     "data": {
      "text/plain": [
       "array([[2.0338593],\n",
       "       [1.5847242],\n",
       "       [2.2823682]], dtype=float32)"
      ]
     },
     "execution_count": 36,
     "metadata": {},
     "output_type": "execute_result"
    }
   ],
   "source": [
    "model.save(\"my_keras_model.h5\")\n",
    "model = keras.models.load_model(\"my_keras_model.h5\")\n",
    "model.predict(X_new)"
   ]
  },
  {
   "cell_type": "code",
   "execution_count": 37,
   "metadata": {},
   "outputs": [
    {
     "data": {
      "text/plain": [
       "<tensorflow.python.training.tracking.util.CheckpointLoadStatus at 0x7f8ec8c97bd0>"
      ]
     },
     "execution_count": 37,
     "metadata": {},
     "output_type": "execute_result"
    }
   ],
   "source": [
    "model.save_weights(\"my_keras_weights.ckpt\")\n",
    "model.load_weights(\"my_keras_weights.ckpt\")"
   ]
  },
  {
   "cell_type": "markdown",
   "metadata": {},
   "source": [
    "# Using Callbacks"
   ]
  },
  {
   "cell_type": "markdown",
   "metadata": {},
   "source": [
    "### Callback to saves checkpoints"
   ]
  },
  {
   "cell_type": "code",
   "execution_count": 38,
   "metadata": {},
   "outputs": [
    {
     "name": "stdout",
     "output_type": "stream",
     "text": [
      "Epoch 1/10\n",
      "363/363 [==============================] - 0s 585us/step - loss: 1.7659\n",
      "Epoch 2/10\n",
      "363/363 [==============================] - 0s 606us/step - loss: 0.7909\n",
      "Epoch 3/10\n",
      "363/363 [==============================] - 0s 613us/step - loss: 0.7292\n",
      "Epoch 4/10\n",
      "363/363 [==============================] - 0s 587us/step - loss: 0.6939\n",
      "Epoch 5/10\n",
      "363/363 [==============================] - 0s 586us/step - loss: 0.6672\n",
      "Epoch 6/10\n",
      "363/363 [==============================] - 0s 581us/step - loss: 0.6439\n",
      "Epoch 7/10\n",
      "363/363 [==============================] - 0s 580us/step - loss: 0.6248\n",
      "Epoch 8/10\n",
      "363/363 [==============================] - 0s 577us/step - loss: 0.6075\n",
      "Epoch 9/10\n",
      "363/363 [==============================] - 0s 583us/step - loss: 0.5922\n",
      "Epoch 10/10\n",
      "363/363 [==============================] - 0s 576us/step - loss: 0.5788\n"
     ]
    }
   ],
   "source": [
    "model = keras.models.Sequential([\n",
    "    keras.layers.Dense(30, activation=\"relu\", input_shape=[8]),\n",
    "    keras.layers.Dense(30, activation=\"relu\"),\n",
    "    keras.layers.Dense(1)\n",
    "])\n",
    "\n",
    "model.compile(loss=\"mse\", optimizer=keras.optimizers.SGD(lr=1e-3))\n",
    "\n",
    "checkpoint_cb = keras.callbacks.ModelCheckpoint('my_keras_model.h5')\n",
    "history = model.fit(X_train, y_train, epochs=10, callbacks=[checkpoint_cb])"
   ]
  },
  {
   "cell_type": "markdown",
   "metadata": {},
   "source": [
    "### Save the model with best performance"
   ]
  },
  {
   "cell_type": "code",
   "execution_count": 39,
   "metadata": {
    "scrolled": true
   },
   "outputs": [
    {
     "name": "stdout",
     "output_type": "stream",
     "text": [
      "Epoch 1/10\n",
      "363/363 [==============================] - 0s 864us/step - loss: 0.5668 - val_loss: 0.5432\n",
      "Epoch 2/10\n",
      "363/363 [==============================] - 0s 766us/step - loss: 0.5557 - val_loss: 0.5350\n",
      "Epoch 3/10\n",
      "363/363 [==============================] - 0s 779us/step - loss: 0.5456 - val_loss: 0.5270\n",
      "Epoch 4/10\n",
      "363/363 [==============================] - 0s 775us/step - loss: 0.5365 - val_loss: 0.5204\n",
      "Epoch 5/10\n",
      "363/363 [==============================] - 0s 788us/step - loss: 0.5279 - val_loss: 0.5116\n",
      "Epoch 6/10\n",
      "363/363 [==============================] - 0s 774us/step - loss: 0.5201 - val_loss: 0.5042\n",
      "Epoch 7/10\n",
      "363/363 [==============================] - 0s 772us/step - loss: 0.5128 - val_loss: 0.4995\n",
      "Epoch 8/10\n",
      "363/363 [==============================] - 0s 767us/step - loss: 0.5058 - val_loss: 0.4943\n",
      "Epoch 9/10\n",
      "363/363 [==============================] - 0s 816us/step - loss: 0.4991 - val_loss: 0.4865\n",
      "Epoch 10/10\n",
      "363/363 [==============================] - 0s 774us/step - loss: 0.4930 - val_loss: 0.4816\n"
     ]
    }
   ],
   "source": [
    "model.compile(loss=\"mse\", optimizer=keras.optimizers.SGD(lr=1e-3))\n",
    "\n",
    "checkpoint_cb = keras.callbacks.ModelCheckpoint('my_keras_model.h5', save_best_only=True)\n",
    "history = model.fit(X_train, y_train, epochs=10, validation_data=(X_valid, y_valid),\n",
    "                    callbacks=[checkpoint_cb])\n",
    "\n",
    "model = keras.models.load_model('my_keras_model.h5') # roll back to best model"
   ]
  },
  {
   "cell_type": "markdown",
   "metadata": {},
   "source": [
    "### Early Stop"
   ]
  },
  {
   "cell_type": "code",
   "execution_count": 40,
   "metadata": {
    "scrolled": true
   },
   "outputs": [
    {
     "name": "stdout",
     "output_type": "stream",
     "text": [
      "Epoch 1/100\n",
      "363/363 [==============================] - 0s 879us/step - loss: 0.4875 - val_loss: 0.4773\n",
      "Epoch 2/100\n",
      "363/363 [==============================] - 0s 766us/step - loss: 0.4818 - val_loss: 0.4723\n",
      "Epoch 3/100\n",
      "363/363 [==============================] - 0s 764us/step - loss: 0.4765 - val_loss: 0.4724\n",
      "Epoch 4/100\n",
      "363/363 [==============================] - 0s 776us/step - loss: 0.4719 - val_loss: 0.4646\n",
      "Epoch 5/100\n",
      "363/363 [==============================] - 0s 771us/step - loss: 0.4675 - val_loss: 0.4609\n",
      "Epoch 6/100\n",
      "363/363 [==============================] - 0s 778us/step - loss: 0.4632 - val_loss: 0.4582\n",
      "Epoch 7/100\n",
      "363/363 [==============================] - 0s 776us/step - loss: 0.4590 - val_loss: 0.4541\n",
      "Epoch 8/100\n",
      "363/363 [==============================] - 0s 778us/step - loss: 0.4559 - val_loss: 0.4523\n",
      "Epoch 9/100\n",
      "363/363 [==============================] - 0s 766us/step - loss: 0.4528 - val_loss: 0.4502\n",
      "Epoch 10/100\n",
      "363/363 [==============================] - 0s 773us/step - loss: 0.4499 - val_loss: 0.4493\n",
      "Epoch 11/100\n",
      "363/363 [==============================] - 0s 774us/step - loss: 0.4474 - val_loss: 0.4464\n",
      "Epoch 12/100\n",
      "363/363 [==============================] - 0s 789us/step - loss: 0.4450 - val_loss: 0.4428\n",
      "Epoch 13/100\n",
      "363/363 [==============================] - 0s 776us/step - loss: 0.4429 - val_loss: 0.4414\n",
      "Epoch 14/100\n",
      "363/363 [==============================] - 0s 782us/step - loss: 0.4406 - val_loss: 0.4389\n",
      "Epoch 15/100\n",
      "363/363 [==============================] - 0s 755us/step - loss: 0.4388 - val_loss: 0.4402\n",
      "Epoch 16/100\n",
      "363/363 [==============================] - 0s 763us/step - loss: 0.4372 - val_loss: 0.4378\n",
      "Epoch 17/100\n",
      "363/363 [==============================] - 0s 775us/step - loss: 0.4355 - val_loss: 0.4345\n",
      "Epoch 18/100\n",
      "363/363 [==============================] - 0s 759us/step - loss: 0.4334 - val_loss: 0.4390\n",
      "Epoch 19/100\n",
      "363/363 [==============================] - 0s 773us/step - loss: 0.4327 - val_loss: 0.4333\n",
      "Epoch 20/100\n",
      "363/363 [==============================] - 0s 777us/step - loss: 0.4311 - val_loss: 0.4306\n",
      "Epoch 21/100\n",
      "363/363 [==============================] - 0s 772us/step - loss: 0.4297 - val_loss: 0.4299\n",
      "Epoch 22/100\n",
      "363/363 [==============================] - 0s 794us/step - loss: 0.4284 - val_loss: 0.4289\n",
      "Epoch 23/100\n",
      "363/363 [==============================] - 0s 774us/step - loss: 0.4272 - val_loss: 0.4278\n",
      "Epoch 24/100\n",
      "363/363 [==============================] - 0s 785us/step - loss: 0.4259 - val_loss: 0.4260\n",
      "Epoch 25/100\n",
      "363/363 [==============================] - 0s 776us/step - loss: 0.4245 - val_loss: 0.4255\n",
      "Epoch 26/100\n",
      "363/363 [==============================] - 0s 759us/step - loss: 0.4236 - val_loss: 0.4261\n",
      "Epoch 27/100\n",
      "363/363 [==============================] - 0s 768us/step - loss: 0.4225 - val_loss: 0.4236\n",
      "Epoch 28/100\n",
      "363/363 [==============================] - 0s 777us/step - loss: 0.4215 - val_loss: 0.4228\n",
      "Epoch 29/100\n",
      "363/363 [==============================] - 0s 765us/step - loss: 0.4201 - val_loss: 0.4228\n",
      "Epoch 30/100\n",
      "363/363 [==============================] - 0s 766us/step - loss: 0.4193 - val_loss: 0.4212\n",
      "Epoch 31/100\n",
      "363/363 [==============================] - 0s 789us/step - loss: 0.4179 - val_loss: 0.4205\n",
      "Epoch 32/100\n",
      "363/363 [==============================] - 0s 746us/step - loss: 0.4169 - val_loss: 0.4205\n",
      "Epoch 33/100\n",
      "363/363 [==============================] - 0s 775us/step - loss: 0.4160 - val_loss: 0.4201\n",
      "Epoch 34/100\n",
      "363/363 [==============================] - 0s 782us/step - loss: 0.4149 - val_loss: 0.4195\n",
      "Epoch 35/100\n",
      "363/363 [==============================] - 0s 777us/step - loss: 0.4140 - val_loss: 0.4173\n",
      "Epoch 36/100\n",
      "363/363 [==============================] - 0s 781us/step - loss: 0.4127 - val_loss: 0.4159\n",
      "Epoch 37/100\n",
      "363/363 [==============================] - 0s 756us/step - loss: 0.4118 - val_loss: 0.4160\n",
      "Epoch 38/100\n",
      "363/363 [==============================] - 0s 775us/step - loss: 0.4106 - val_loss: 0.4158\n",
      "Epoch 39/100\n",
      "363/363 [==============================] - 0s 778us/step - loss: 0.4098 - val_loss: 0.4144\n",
      "Epoch 40/100\n",
      "363/363 [==============================] - 0s 792us/step - loss: 0.4090 - val_loss: 0.4126\n",
      "Epoch 41/100\n",
      "363/363 [==============================] - 0s 778us/step - loss: 0.4079 - val_loss: 0.4119\n",
      "Epoch 42/100\n",
      "363/363 [==============================] - 0s 785us/step - loss: 0.4068 - val_loss: 0.4106\n",
      "Epoch 43/100\n",
      "363/363 [==============================] - 0s 750us/step - loss: 0.4061 - val_loss: 0.4108\n",
      "Epoch 44/100\n",
      "363/363 [==============================] - 0s 769us/step - loss: 0.4052 - val_loss: 0.4104\n",
      "Epoch 45/100\n",
      "363/363 [==============================] - 0s 757us/step - loss: 0.4039 - val_loss: 0.4117\n",
      "Epoch 46/100\n",
      "363/363 [==============================] - 0s 774us/step - loss: 0.4033 - val_loss: 0.4083\n",
      "Epoch 47/100\n",
      "363/363 [==============================] - 0s 779us/step - loss: 0.4022 - val_loss: 0.4077\n",
      "Epoch 48/100\n",
      "363/363 [==============================] - 0s 763us/step - loss: 0.4013 - val_loss: 0.4068\n",
      "Epoch 49/100\n",
      "363/363 [==============================] - 0s 767us/step - loss: 0.4002 - val_loss: 0.4058\n",
      "Epoch 50/100\n",
      "363/363 [==============================] - 0s 775us/step - loss: 0.3995 - val_loss: 0.4063\n",
      "Epoch 51/100\n",
      "363/363 [==============================] - 0s 776us/step - loss: 0.3986 - val_loss: 0.4048\n",
      "Epoch 52/100\n",
      "363/363 [==============================] - 0s 780us/step - loss: 0.3977 - val_loss: 0.4041\n",
      "Epoch 53/100\n",
      "363/363 [==============================] - 0s 778us/step - loss: 0.3969 - val_loss: 0.4035\n",
      "Epoch 54/100\n",
      "363/363 [==============================] - 0s 769us/step - loss: 0.3959 - val_loss: 0.4019\n",
      "Epoch 55/100\n",
      "363/363 [==============================] - 0s 758us/step - loss: 0.3952 - val_loss: 0.4020\n",
      "Epoch 56/100\n",
      "363/363 [==============================] - 0s 779us/step - loss: 0.3944 - val_loss: 0.4006\n",
      "Epoch 57/100\n",
      "363/363 [==============================] - 0s 759us/step - loss: 0.3934 - val_loss: 0.4011\n",
      "Epoch 58/100\n",
      "363/363 [==============================] - 0s 770us/step - loss: 0.3925 - val_loss: 0.3986\n",
      "Epoch 59/100\n",
      "363/363 [==============================] - 0s 824us/step - loss: 0.3918 - val_loss: 0.3982\n",
      "Epoch 60/100\n",
      "363/363 [==============================] - 0s 768us/step - loss: 0.3911 - val_loss: 0.3974\n",
      "Epoch 61/100\n",
      "363/363 [==============================] - 0s 759us/step - loss: 0.3904 - val_loss: 0.3984\n",
      "Epoch 62/100\n",
      "363/363 [==============================] - 0s 773us/step - loss: 0.3897 - val_loss: 0.3965\n",
      "Epoch 63/100\n",
      "363/363 [==============================] - 0s 766us/step - loss: 0.3886 - val_loss: 0.3969\n",
      "Epoch 64/100\n",
      "363/363 [==============================] - 0s 763us/step - loss: 0.3877 - val_loss: 0.3954\n",
      "Epoch 65/100\n",
      "363/363 [==============================] - 0s 775us/step - loss: 0.3872 - val_loss: 0.3945\n",
      "Epoch 66/100\n",
      "363/363 [==============================] - 0s 777us/step - loss: 0.3862 - val_loss: 0.3928\n",
      "Epoch 67/100\n",
      "363/363 [==============================] - 0s 772us/step - loss: 0.3856 - val_loss: 0.3927\n",
      "Epoch 68/100\n",
      "363/363 [==============================] - 0s 772us/step - loss: 0.3852 - val_loss: 0.3919\n",
      "Epoch 69/100\n",
      "363/363 [==============================] - 0s 776us/step - loss: 0.3842 - val_loss: 0.3922\n",
      "Epoch 70/100\n",
      "363/363 [==============================] - 0s 773us/step - loss: 0.3833 - val_loss: 0.3915\n",
      "Epoch 71/100\n",
      "363/363 [==============================] - 0s 776us/step - loss: 0.3828 - val_loss: 0.3894\n",
      "Epoch 72/100\n",
      "363/363 [==============================] - 0s 761us/step - loss: 0.3817 - val_loss: 0.3915\n",
      "Epoch 73/100\n",
      "363/363 [==============================] - 0s 767us/step - loss: 0.3812 - val_loss: 0.3891\n",
      "Epoch 74/100\n",
      "363/363 [==============================] - 0s 778us/step - loss: 0.3806 - val_loss: 0.3891\n",
      "Epoch 75/100\n",
      "363/363 [==============================] - 0s 779us/step - loss: 0.3797 - val_loss: 0.3876\n",
      "Epoch 76/100\n",
      "363/363 [==============================] - 0s 769us/step - loss: 0.3789 - val_loss: 0.3871\n",
      "Epoch 77/100\n",
      "363/363 [==============================] - 0s 779us/step - loss: 0.3784 - val_loss: 0.3862\n",
      "Epoch 78/100\n",
      "363/363 [==============================] - 0s 771us/step - loss: 0.3776 - val_loss: 0.3875\n",
      "Epoch 79/100\n",
      "363/363 [==============================] - 0s 775us/step - loss: 0.3772 - val_loss: 0.3857\n"
     ]
    },
    {
     "name": "stdout",
     "output_type": "stream",
     "text": [
      "Epoch 80/100\n",
      "363/363 [==============================] - 0s 756us/step - loss: 0.3762 - val_loss: 0.3873\n",
      "Epoch 81/100\n",
      "363/363 [==============================] - 0s 774us/step - loss: 0.3756 - val_loss: 0.3854\n",
      "Epoch 82/100\n",
      "363/363 [==============================] - 0s 771us/step - loss: 0.3748 - val_loss: 0.3825\n",
      "Epoch 83/100\n",
      "363/363 [==============================] - 0s 748us/step - loss: 0.3742 - val_loss: 0.3843\n",
      "Epoch 84/100\n",
      "363/363 [==============================] - 0s 748us/step - loss: 0.3736 - val_loss: 0.3831\n",
      "Epoch 85/100\n",
      "363/363 [==============================] - 0s 762us/step - loss: 0.3722 - val_loss: 0.3801\n",
      "Epoch 86/100\n",
      "363/363 [==============================] - 0s 759us/step - loss: 0.3721 - val_loss: 0.3809\n",
      "Epoch 87/100\n",
      "363/363 [==============================] - 0s 778us/step - loss: 0.3715 - val_loss: 0.3797\n",
      "Epoch 88/100\n",
      "363/363 [==============================] - 0s 776us/step - loss: 0.3708 - val_loss: 0.3807\n",
      "Epoch 89/100\n",
      "363/363 [==============================] - 0s 777us/step - loss: 0.3700 - val_loss: 0.3799\n",
      "Epoch 90/100\n",
      "363/363 [==============================] - 0s 799us/step - loss: 0.3694 - val_loss: 0.3785\n",
      "Epoch 91/100\n",
      "363/363 [==============================] - 0s 787us/step - loss: 0.3689 - val_loss: 0.3771\n",
      "Epoch 92/100\n",
      "363/363 [==============================] - 0s 782us/step - loss: 0.3681 - val_loss: 0.3770\n",
      "Epoch 93/100\n",
      "363/363 [==============================] - 0s 767us/step - loss: 0.3671 - val_loss: 0.3779\n",
      "Epoch 94/100\n",
      "363/363 [==============================] - 0s 794us/step - loss: 0.3670 - val_loss: 0.3758\n",
      "Epoch 95/100\n",
      "363/363 [==============================] - 0s 773us/step - loss: 0.3658 - val_loss: 0.3758\n",
      "Epoch 96/100\n",
      "363/363 [==============================] - 0s 776us/step - loss: 0.3654 - val_loss: 0.3743\n",
      "Epoch 97/100\n",
      "363/363 [==============================] - 0s 777us/step - loss: 0.3647 - val_loss: 0.3756\n",
      "Epoch 98/100\n",
      "363/363 [==============================] - 0s 776us/step - loss: 0.3642 - val_loss: 0.3718\n",
      "Epoch 99/100\n",
      "363/363 [==============================] - 0s 784us/step - loss: 0.3634 - val_loss: 0.3718\n",
      "Epoch 100/100\n",
      "363/363 [==============================] - 0s 763us/step - loss: 0.3628 - val_loss: 0.3728\n"
     ]
    }
   ],
   "source": [
    "early_stopping_cb = keras.callbacks.EarlyStopping(patience=10, restore_best_weights=True)\n",
    "\n",
    "history = model.fit(X_train, y_train, epochs=100, validation_data=(X_valid, y_valid),\n",
    "                    callbacks=[checkpoint_cb, early_stopping_cb])"
   ]
  },
  {
   "cell_type": "markdown",
   "metadata": {},
   "source": [
    "### Custom callbacks"
   ]
  },
  {
   "cell_type": "code",
   "execution_count": 41,
   "metadata": {},
   "outputs": [],
   "source": [
    "class PrintValTrainRatioCallback(keras.callbacks.Callback):\n",
    "    def on_epoch_end(self, epoch, logs):\n",
    "        print('\\nval/train: {:.2f}'.format(logs['val_loss'] / logs['loss']))"
   ]
  },
  {
   "cell_type": "code",
   "execution_count": 42,
   "metadata": {},
   "outputs": [
    {
     "name": "stdout",
     "output_type": "stream",
     "text": [
      "348/363 [===========================>..] - ETA: 0s - loss: 0.3604\n",
      "val/train: 1.02\n",
      "363/363 [==============================] - 0s 773us/step - loss: 0.3624 - val_loss: 0.3707\n"
     ]
    }
   ],
   "source": [
    "val_train_ratio_cb = PrintValTrainRatioCallback()\n",
    "history = model.fit(X_train, y_train, epochs=1,\n",
    "                    validation_data=(X_valid, y_valid),\n",
    "                    callbacks=[val_train_ratio_cb])"
   ]
  },
  {
   "cell_type": "markdown",
   "metadata": {},
   "source": [
    "# Using TensorBoard for Visualization"
   ]
  },
  {
   "cell_type": "markdown",
   "metadata": {},
   "source": [
    "### Save logs"
   ]
  },
  {
   "cell_type": "code",
   "execution_count": 43,
   "metadata": {},
   "outputs": [],
   "source": [
    "import os\n",
    "root_logdir = os.path.join(os.curdir, 'my_logs')\n",
    "\n",
    "def get_run_logdir():\n",
    "    import time\n",
    "    run_id = time.strftime('run_%Y_%m_%d-%H_%M_%S')\n",
    "    return os.path.join(root_logdir, run_id)\n",
    "\n",
    "run_logdir = get_run_logdir()"
   ]
  },
  {
   "cell_type": "code",
   "execution_count": 44,
   "metadata": {},
   "outputs": [
    {
     "name": "stdout",
     "output_type": "stream",
     "text": [
      "Epoch 1/30\n",
      "363/363 [==============================] - 0s 1ms/step - loss: 1.9020 - val_loss: 0.7568\n",
      "Epoch 2/30\n",
      "363/363 [==============================] - 0s 998us/step - loss: 0.7182 - val_loss: 0.6440\n",
      "Epoch 3/30\n",
      "363/363 [==============================] - 0s 961us/step - loss: 0.6494 - val_loss: 0.5982\n",
      "Epoch 4/30\n",
      "363/363 [==============================] - 0s 879us/step - loss: 0.6194 - val_loss: 0.5695\n",
      "Epoch 5/30\n",
      "363/363 [==============================] - 0s 891us/step - loss: 0.5867 - val_loss: 0.5473\n",
      "Epoch 6/30\n",
      "363/363 [==============================] - 0s 917us/step - loss: 0.5620 - val_loss: 0.5280\n",
      "Epoch 7/30\n",
      "363/363 [==============================] - 0s 882us/step - loss: 0.5458 - val_loss: 0.5165\n",
      "Epoch 8/30\n",
      "363/363 [==============================] - 0s 888us/step - loss: 0.5329 - val_loss: 0.5086\n",
      "Epoch 9/30\n",
      "363/363 [==============================] - 0s 883us/step - loss: 0.5208 - val_loss: 0.4981\n",
      "Epoch 10/30\n",
      "363/363 [==============================] - 0s 877us/step - loss: 0.5122 - val_loss: 0.4931\n",
      "Epoch 11/30\n",
      "363/363 [==============================] - 0s 882us/step - loss: 0.5040 - val_loss: 0.4892\n",
      "Epoch 12/30\n",
      "363/363 [==============================] - 0s 884us/step - loss: 0.4967 - val_loss: 0.4786\n",
      "Epoch 13/30\n",
      "363/363 [==============================] - 0s 880us/step - loss: 0.4902 - val_loss: 0.4750\n",
      "Epoch 14/30\n",
      "363/363 [==============================] - 0s 906us/step - loss: 0.4890 - val_loss: 0.4708\n",
      "Epoch 15/30\n",
      "363/363 [==============================] - 0s 878us/step - loss: 0.4811 - val_loss: 0.4686\n",
      "Epoch 16/30\n",
      "363/363 [==============================] - 0s 889us/step - loss: 0.4767 - val_loss: 0.4643\n",
      "Epoch 17/30\n",
      "363/363 [==============================] - 0s 889us/step - loss: 0.4720 - val_loss: 0.4609\n",
      "Epoch 18/30\n",
      "363/363 [==============================] - 0s 888us/step - loss: 0.4736 - val_loss: 0.4585\n",
      "Epoch 19/30\n",
      "363/363 [==============================] - 0s 880us/step - loss: 0.4665 - val_loss: 0.4545\n",
      "Epoch 20/30\n",
      "363/363 [==============================] - 0s 890us/step - loss: 0.4648 - val_loss: 0.4535\n",
      "Epoch 21/30\n",
      "363/363 [==============================] - 0s 889us/step - loss: 0.4600 - val_loss: 0.4495\n",
      "Epoch 22/30\n",
      "363/363 [==============================] - 0s 887us/step - loss: 0.4565 - val_loss: 0.4477\n",
      "Epoch 23/30\n",
      "363/363 [==============================] - 0s 902us/step - loss: 0.4538 - val_loss: 0.4460\n",
      "Epoch 24/30\n",
      "363/363 [==============================] - 0s 883us/step - loss: 0.4516 - val_loss: 0.4432\n",
      "Epoch 25/30\n",
      "363/363 [==============================] - 0s 884us/step - loss: 0.4493 - val_loss: 0.4405\n",
      "Epoch 26/30\n",
      "363/363 [==============================] - 0s 880us/step - loss: 0.4473 - val_loss: 0.4389\n",
      "Epoch 27/30\n",
      "363/363 [==============================] - 0s 889us/step - loss: 0.4453 - val_loss: 0.4393\n",
      "Epoch 28/30\n",
      "363/363 [==============================] - 0s 885us/step - loss: 0.4440 - val_loss: 0.4358\n",
      "Epoch 29/30\n",
      "363/363 [==============================] - 0s 884us/step - loss: 0.4424 - val_loss: 0.4353\n",
      "Epoch 30/30\n",
      "363/363 [==============================] - 0s 931us/step - loss: 0.4405 - val_loss: 0.4343\n"
     ]
    }
   ],
   "source": [
    "model = keras.models.Sequential([\n",
    "    keras.layers.Dense(30, activation=\"relu\", input_shape=[8]),\n",
    "    keras.layers.Dense(30, activation=\"relu\"),\n",
    "    keras.layers.Dense(1)\n",
    "])\n",
    "\n",
    "model.compile(loss=\"mse\", optimizer=keras.optimizers.SGD(lr=1e-3))\n",
    "\n",
    "tensorboard_cb = keras.callbacks.TensorBoard(run_logdir)\n",
    "history = model.fit(X_train, y_train, epochs=30, validation_data=(X_valid, y_valid), callbacks=[tensorboard_cb])"
   ]
  },
  {
   "cell_type": "markdown",
   "metadata": {},
   "source": [
    "### Initializate a Tensorboard Server"
   ]
  },
  {
   "cell_type": "markdown",
   "metadata": {},
   "source": [
    "In ternimal\n",
    "\n",
    "```\n",
    "$ tensorboard --logdir =./my_logs --port=6060\n",
    "```"
   ]
  },
  {
   "cell_type": "markdown",
   "metadata": {},
   "source": [
    "### Summary Writer"
   ]
  },
  {
   "cell_type": "code",
   "execution_count": 47,
   "metadata": {},
   "outputs": [],
   "source": [
    "test_logdir = get_run_logdir()\n",
    "writer = tf.summary.create_file_writer(test_logdir)\n",
    "\n",
    "with writer.as_default():\n",
    "    for step in range(1, 100 + 1):\n",
    "        tf.summary.scalar('my_scalar', np.sin(step / 10), step=step)\n",
    "        data = (np.random.randn(100) + 2) * step / 100 # some random data\n",
    "        tf.summary.histogram('my_hist', data, buckets=50, step=step)\n",
    "        images = np.random.rand(2, 32, 32, 3) # random 32x32 RGB images\n",
    "        tf.summary.image('my_images', images * step / 1000, step=step)\n",
    "        texts = ['The step is ' + str(step), 'Its square is ' + str(step**2)]\n",
    "        tf.summary.text('my_text', texts, step=step)\n",
    "        sine_wave = tf.math.sin(tf.range(12000) / 48000 * 2 * np.pi * step)\n",
    "        audio = tf.reshape(tf.cast(sine_wave, tf.float32), [1, -1, 1])\n",
    "        tf.summary.audio('my_audio', audio, sample_rate=48000, step=step)"
   ]
  },
  {
   "cell_type": "code",
   "execution_count": null,
   "metadata": {},
   "outputs": [],
   "source": []
  }
 ],
 "metadata": {
  "kernelspec": {
   "display_name": "Python 3",
   "language": "python",
   "name": "python3"
  },
  "language_info": {
   "codemirror_mode": {
    "name": "ipython",
    "version": 3
   },
   "file_extension": ".py",
   "mimetype": "text/x-python",
   "name": "python",
   "nbconvert_exporter": "python",
   "pygments_lexer": "ipython3",
   "version": "3.7.6"
  }
 },
 "nbformat": 4,
 "nbformat_minor": 4
}
